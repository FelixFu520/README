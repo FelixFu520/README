{
 "cells": [
  {
   "cell_type": "markdown",
   "metadata": {},
   "source": [
    "# 第五章 程序控制结构"
   ]
  },
  {
   "cell_type": "markdown",
   "metadata": {},
   "source": [
    "非顺序式的程序控制，往往需要根据一定的条件，决定程序运行的路线。因此，我们首先来认识一下什么叫条件测试。"
   ]
  },
  {
   "cell_type": "markdown",
   "metadata": {},
   "source": [
    "## 第一部分 条件测试"
   ]
  },
  {
   "cell_type": "markdown",
   "metadata": {},
   "source": [
    "### 1、比较运算"
   ]
  },
  {
   "cell_type": "code",
   "execution_count": 1,
   "metadata": {},
   "outputs": [
    {
     "name": "stdout",
     "output_type": "stream",
     "text": [
      "True\n",
      "False\n",
      "True\n",
      "False\n",
      "False\n",
      "True\n"
     ]
    }
   ],
   "source": [
    "a = 10\n",
    "b = 8\n",
    "print(a > b)     # 大于\n",
    "print(a < b)     # 小于\n",
    "print(a >= b)    # 大于等于\n",
    "print(a <= b)    # 小于等于\n",
    "print(a == b)    # 等于\n",
    "print(a != b)    # 不等于"
   ]
  },
  {
   "cell_type": "markdown",
   "metadata": {},
   "source": [
    "* 非空"
   ]
  },
  {
   "cell_type": "code",
   "execution_count": 3,
   "metadata": {},
   "outputs": [
    {
     "name": "stdout",
     "output_type": "stream",
     "text": [
      "非空\n"
     ]
    }
   ],
   "source": [
    "ls = [1]\n",
    "if ls:            # 数据结构不为空、变量不为0、None、False 则条件成立\n",
    "    print(\"非空\")\n",
    "else:\n",
    "    print(\"空的\")"
   ]
  },
  {
   "cell_type": "markdown",
   "metadata": {},
   "source": [
    "### 2、逻辑运算"
   ]
  },
  {
   "cell_type": "markdown",
   "metadata": {},
   "source": [
    "* 与、或、非"
   ]
  },
  {
   "cell_type": "code",
   "execution_count": 4,
   "metadata": {
    "scrolled": true
   },
   "outputs": [
    {
     "name": "stdout",
     "output_type": "stream",
     "text": [
      "False\n",
      "True\n",
      "False\n"
     ]
    }
   ],
   "source": [
    "a = 10\n",
    "b = 8\n",
    "c = 12\n",
    "print((a > b) and (b > c))    # 与\n",
    "print((a > b) or (b > c))     # 或\n",
    "print(not(a > b))             # 非"
   ]
  },
  {
   "cell_type": "markdown",
   "metadata": {},
   "source": [
    "* 复合逻辑运算的优先级  \n",
    "非 > 与 > 或"
   ]
  },
  {
   "cell_type": "code",
   "execution_count": 5,
   "metadata": {
    "scrolled": true
   },
   "outputs": [
    {
     "name": "stdout",
     "output_type": "stream",
     "text": [
      "True\n"
     ]
    }
   ],
   "source": [
    "print(True or True and False)"
   ]
  },
  {
   "cell_type": "code",
   "execution_count": 6,
   "metadata": {},
   "outputs": [
    {
     "name": "stdout",
     "output_type": "stream",
     "text": [
      "False\n"
     ]
    }
   ],
   "source": [
    "print((True or True) and False)"
   ]
  },
  {
   "cell_type": "markdown",
   "metadata": {},
   "source": [
    "### 3、存在运算"
   ]
  },
  {
   "cell_type": "markdown",
   "metadata": {},
   "source": [
    "元素 in 列表/字符串   "
   ]
  },
  {
   "cell_type": "code",
   "execution_count": 8,
   "metadata": {},
   "outputs": [],
   "source": [
    "cars = [\"BYD\", \"BMW\", \"AUDI\", \"TOYOTA\"]"
   ]
  },
  {
   "cell_type": "code",
   "execution_count": 9,
   "metadata": {},
   "outputs": [
    {
     "name": "stdout",
     "output_type": "stream",
     "text": [
      "True\n",
      "False\n"
     ]
    }
   ],
   "source": [
    "print(\"BMW\" in cars)\n",
    "print(\"BENZ\" in cars)"
   ]
  },
  {
   "cell_type": "markdown",
   "metadata": {},
   "source": [
    "元素 not in 列表/字符串   "
   ]
  },
  {
   "cell_type": "code",
   "execution_count": 10,
   "metadata": {},
   "outputs": [
    {
     "name": "stdout",
     "output_type": "stream",
     "text": [
      "False\n",
      "True\n"
     ]
    }
   ],
   "source": [
    "print(\"BMW\" not in cars)\n",
    "print(\"BENZ\" not in cars)"
   ]
  },
  {
   "cell_type": "markdown",
   "metadata": {},
   "source": [
    "## 第二部分 分支结构——if语句"
   ]
  },
  {
   "cell_type": "markdown",
   "metadata": {},
   "source": [
    "### 1、单分支"
   ]
  },
  {
   "cell_type": "markdown",
   "metadata": {},
   "source": [
    "**模板**  \n",
    "    \n",
    "if 条件：  \n",
    "&emsp;&ensp;缩进的代码块"
   ]
  },
  {
   "cell_type": "code",
   "execution_count": 11,
   "metadata": {},
   "outputs": [
    {
     "name": "stdout",
     "output_type": "stream",
     "text": [
      "孩子，你该上学啦！\n"
     ]
    }
   ],
   "source": [
    "age = 8\n",
    "if age > 7:\n",
    "    print(\"孩子，你该上学啦！\")"
   ]
  },
  {
   "cell_type": "markdown",
   "metadata": {},
   "source": [
    "### 2、二分支"
   ]
  },
  {
   "cell_type": "markdown",
   "metadata": {},
   "source": [
    "**模板**  \n",
    "    \n",
    "if 条件：  \n",
    "&emsp;&ensp;缩进的代码块  \n",
    "else：  \n",
    "&emsp;&ensp;缩进的代码块  "
   ]
  },
  {
   "cell_type": "code",
   "execution_count": 12,
   "metadata": {},
   "outputs": [
    {
     "name": "stdout",
     "output_type": "stream",
     "text": [
      "再玩两年泥巴！\n"
     ]
    }
   ],
   "source": [
    "age = 6\n",
    "if age > 7:\n",
    "    print(\"孩子，你该上学啦！\")\n",
    "else:\n",
    "    print(\"再玩两年泥巴！\")"
   ]
  },
  {
   "cell_type": "markdown",
   "metadata": {},
   "source": [
    "### 3、 多分支"
   ]
  },
  {
   "cell_type": "markdown",
   "metadata": {},
   "source": [
    "**模板**  \n",
    "    \n",
    "if 条件：  \n",
    "&emsp;&ensp;缩进的代码块  \n",
    "elif 条件：  \n",
    "&emsp;&ensp;缩进的代码块  \n",
    "elif 条件：  \n",
    "&emsp;&ensp;缩进的代码块  \n",
    "...  \n",
    "else：  \n",
    "&emsp;&ensp;缩进的代码块  "
   ]
  },
  {
   "cell_type": "code",
   "execution_count": 13,
   "metadata": {
    "scrolled": true
   },
   "outputs": [
    {
     "name": "stdout",
     "output_type": "stream",
     "text": [
      "辛苦了，各行各业的工作者们\n"
     ]
    }
   ],
   "source": [
    "age = 38\n",
    "if age < 7:\n",
    "    print(\"再玩两年泥巴\")\n",
    "elif age < 13:\n",
    "    print(\"孩子，你该上小学啦\")\n",
    "elif age < 16:\n",
    "    print(\"孩子，你该上初中了\")\n",
    "elif age < 19:\n",
    "    print(\"孩子，你该上高中了\")\n",
    "elif age < 23:\n",
    "    print(\"大学生活快乐\")\n",
    "elif age < 60:\n",
    "    print(\"辛苦了，各行各业的工作者们\")\n",
    "else:     # 有时为了清楚，也可以写成elif age >= 60:\n",
    "    print(\"享受退休生活吧\") "
   ]
  },
  {
   "cell_type": "markdown",
   "metadata": {},
   "source": [
    "**不管多少分支，最后只执行一个分支**"
   ]
  },
  {
   "cell_type": "markdown",
   "metadata": {},
   "source": [
    "### 4、嵌套语句"
   ]
  },
  {
   "cell_type": "markdown",
   "metadata": {},
   "source": [
    "**题目：年满18周岁，在非公共场合方可抽烟，判断某种情形下是否可以抽烟**"
   ]
  },
  {
   "cell_type": "code",
   "execution_count": 17,
   "metadata": {},
   "outputs": [
    {
     "name": "stdout",
     "output_type": "stream",
     "text": [
      "请输入年龄16\n",
      "禁止抽烟\n"
     ]
    }
   ],
   "source": [
    "age = eval(input(\"请输入年龄\"))\n",
    "if age > 18:\n",
    "    is_public_place = bool(eval(input(\"公共场合请输入1，非公共场合请输入0\")))\n",
    "    print(is_public_place)\n",
    "    if not is_public_place:\n",
    "        print(\"可以抽烟\")\n",
    "    else:\n",
    "        print(\"禁止抽烟\")        \n",
    "else:\n",
    "    print(\"禁止抽烟\")            "
   ]
  },
  {
   "cell_type": "markdown",
   "metadata": {},
   "source": [
    "## 第三部分 遍历循环——for 循环"
   ]
  },
  {
   "cell_type": "markdown",
   "metadata": {},
   "source": [
    "### 主要形式：\n",
    "* **for** 元素 **in** 可迭代对象：  \n",
    "&emsp;&emsp;执行语句"
   ]
  },
  {
   "cell_type": "markdown",
   "metadata": {},
   "source": [
    "### 执行过程：\n",
    "* 从可迭代对象中，依次取出每一个元素，并进行相应的操作"
   ]
  },
  {
   "cell_type": "markdown",
   "metadata": {},
   "source": [
    "1、直接迭代——列表[ ]、元组( )、集合{ }、字符串\" \""
   ]
  },
  {
   "cell_type": "code",
   "execution_count": 18,
   "metadata": {},
   "outputs": [
    {
     "name": "stdout",
     "output_type": "stream",
     "text": [
      "Congratulations, 李雷\n",
      "Congratulations, 韩梅梅\n",
      "Congratulations, Jim\n"
     ]
    }
   ],
   "source": [
    "graduates = (\"李雷\", \"韩梅梅\", \"Jim\")\n",
    "for graduate in graduates:\n",
    "    print(\"Congratulations, \"+graduate)"
   ]
  },
  {
   "cell_type": "markdown",
   "metadata": {},
   "source": [
    "2、变换迭代——字典"
   ]
  },
  {
   "cell_type": "code",
   "execution_count": 20,
   "metadata": {},
   "outputs": [
    {
     "name": "stdout",
     "output_type": "stream",
     "text": [
      "201901 小明\n",
      "201902 小红\n",
      "201903 小强\n",
      "201901\n",
      "201902\n",
      "201903\n"
     ]
    }
   ],
   "source": [
    "students = {201901: '小明', 201902: '小红', 201903: '小强'}\n",
    "for k, v in students.items():\n",
    "    print(k, v)\n",
    "for student in students.keys():\n",
    "    print(student)  "
   ]
  },
  {
   "cell_type": "markdown",
   "metadata": {},
   "source": [
    "3、range()对象"
   ]
  },
  {
   "cell_type": "code",
   "execution_count": 22,
   "metadata": {},
   "outputs": [
    {
     "name": "stdout",
     "output_type": "stream",
     "text": [
      "[0, 1, 4, 9, 16]\n",
      "99980001\n"
     ]
    }
   ],
   "source": [
    "res=[]\n",
    "for i in range(10000):\n",
    "    res.append(i**2)\n",
    "print(res[:5])\n",
    "print(res[-1])"
   ]
  },
  {
   "cell_type": "code",
   "execution_count": 23,
   "metadata": {},
   "outputs": [
    {
     "name": "stdout",
     "output_type": "stream",
     "text": [
      "[1, 9, 25, 49, 81]\n"
     ]
    }
   ],
   "source": [
    "res=[]\n",
    "for i in range(1,10,2):\n",
    "    res.append(i**2)\n",
    "print(res)"
   ]
  },
  {
   "cell_type": "markdown",
   "metadata": {},
   "source": [
    "### 循环控制：break 和 continue"
   ]
  },
  {
   "cell_type": "markdown",
   "metadata": {},
   "source": [
    "* break 结束整个循环"
   ]
  },
  {
   "cell_type": "code",
   "execution_count": 24,
   "metadata": {},
   "outputs": [
    {
     "name": "stdout",
     "output_type": "stream",
     "text": [
      "产品抽检不合格\n"
     ]
    }
   ],
   "source": [
    "product_scores = [89, 90, 99, 70, 67, 78, 85, 92, 77, 82] # 1组10个产品的性能评分\n",
    " # 如果低于75分的超过1个，则该组产品不合格\n",
    "i = 0\n",
    "for score in product_scores:\n",
    "    if score < 75:\n",
    "        i += 1 \n",
    "    if i == 2:\n",
    "        print(\"产品抽检不合格\")\n",
    "        break"
   ]
  },
  {
   "cell_type": "markdown",
   "metadata": {},
   "source": [
    "* continue 结束本次循环"
   ]
  },
  {
   "cell_type": "code",
   "execution_count": 25,
   "metadata": {},
   "outputs": [
    {
     "name": "stdout",
     "output_type": "stream",
     "text": [
      "10\n",
      "第3个产品，分数为70，不合格\n",
      "第4个产品，分数为67，不合格\n"
     ]
    }
   ],
   "source": [
    "product_scores = [89, 90, 99, 70, 67, 78, 85, 92, 77, 82] # 1组10个产品的性能评分\n",
    " # 如果低于75分,输出警示\n",
    "print(len(product_scores))\n",
    "for i in range(len(product_scores)):\n",
    "    if product_scores[i] >= 75:\n",
    "        continue \n",
    "    print(\"第{0}个产品，分数为{1}，不合格\".format(i, product_scores[i]))"
   ]
  },
  {
   "cell_type": "markdown",
   "metadata": {},
   "source": [
    "### for 与 else的配合"
   ]
  },
  {
   "cell_type": "markdown",
   "metadata": {},
   "source": [
    "如果for 循环全部执行完毕，没有被break中止，则运行else块"
   ]
  },
  {
   "cell_type": "code",
   "execution_count": 27,
   "metadata": {},
   "outputs": [
    {
     "name": "stdout",
     "output_type": "stream",
     "text": [
      "产品抽检不合格\n"
     ]
    }
   ],
   "source": [
    "product_scores = [89, 90, 99, 70, 67, 78, 85, 92, 77, 82] # 1组10个产品的性能评分\n",
    " # 如果低于75分的超过1个，则该组产品不合格\n",
    "i = 0\n",
    "for score in product_scores:\n",
    "    if score < 75:\n",
    "        i+=1 \n",
    "    if i == 2:\n",
    "        print(\"产品抽检不合格\")\n",
    "        break\n",
    "else:\n",
    "    print(\"产品抽检合格\")"
   ]
  },
  {
   "cell_type": "markdown",
   "metadata": {},
   "source": [
    "## 第四部分 无限循环——while 循环"
   ]
  },
  {
   "cell_type": "markdown",
   "metadata": {},
   "source": [
    "###  4.1 为什么要用while 循环"
   ]
  },
  {
   "cell_type": "markdown",
   "metadata": {},
   "source": [
    "* 经典题目：猜数字"
   ]
  },
  {
   "cell_type": "code",
   "execution_count": null,
   "metadata": {
    "scrolled": true
   },
   "outputs": [],
   "source": [
    "albert_age = 18\n",
    "#第1次\n",
    "guess = int(input(\">>:\"))\n",
    "if guess > albert_age :\n",
    "    print(\"猜的太大了，往小里试试...\")\n",
    "elif guess < albert_age :\n",
    "    print(\"猜的太小了，往大里试试...\")\n",
    "else:\n",
    "    print(\"恭喜你，猜对了...\")\n",
    "#第2次\n",
    "guess = int(input(\">>:\"))\n",
    "if guess > albert_age :\n",
    "    print(\"猜的太大了，往小里试试...\")\n",
    "elif guess < albert_age :\n",
    "    print(\"猜的太小了，往大里试试...\")\n",
    "else:\n",
    "    print(\"恭喜你，猜对了...\")"
   ]
  },
  {
   "cell_type": "markdown",
   "metadata": {},
   "source": [
    "**代码可能需要重复执行，可是又不知道具体要执行多少次**"
   ]
  },
  {
   "cell_type": "markdown",
   "metadata": {},
   "source": [
    "### 4.2 while循环的一般形式"
   ]
  },
  {
   "cell_type": "markdown",
   "metadata": {},
   "source": [
    "### 主要形式：\n",
    "* **while** 判断条件：  \n",
    "&emsp;&emsp;执行语句   \n",
    "**条件为真，执行语句**   \n",
    "**条件为假，while 循环结束**"
   ]
  },
  {
   "cell_type": "code",
   "execution_count": null,
   "metadata": {},
   "outputs": [],
   "source": [
    "albert_age = 18 \n",
    "guess = int(input(\">>:\"))\n",
    "while guess != albert_age: \n",
    "    if guess > albert_age :\n",
    "        print(\"猜的太大了，往小里试试...\")\n",
    "    elif guess < albert_age :\n",
    "        print(\"猜的太小了，往大里试试...\")\n",
    "    guess = int(input(\">>:\"))\n",
    "print(\"恭喜你，猜对了...\")"
   ]
  },
  {
   "cell_type": "markdown",
   "metadata": {},
   "source": [
    "### 4.3 while与风向标"
   ]
  },
  {
   "cell_type": "code",
   "execution_count": null,
   "metadata": {
    "scrolled": true
   },
   "outputs": [],
   "source": [
    "albert_age = 18 \n",
    "flag = True     # 布尔类型\n",
    "while flag:\n",
    "    guess = int(input(\">>:\"))\n",
    "    if guess > albert_age :\n",
    "        print(\"猜的太大了，往小里试试...\")\n",
    "    elif guess < albert_age :\n",
    "        print(\"猜的太小了，往大里试试...\")\n",
    "    else:\n",
    "        print(\"恭喜你，猜对了...\")\n",
    "        flag = False    # 当诉求得到满足，就让风向变一下"
   ]
  },
  {
   "cell_type": "code",
   "execution_count": 33,
   "metadata": {},
   "outputs": [],
   "source": [
    "flag=True  \n",
    "while flag:  \n",
    "    pass  \n",
    "    while flag:  \n",
    "        pass  \n",
    "        while flag:     \n",
    "            flag=False     # 循环逐层判断，当flag为false时，循环会逐层退出"
   ]
  },
  {
   "cell_type": "markdown",
   "metadata": {},
   "source": [
    "### 4.4 while 与循环控制 break、continue "
   ]
  },
  {
   "cell_type": "code",
   "execution_count": null,
   "metadata": {
    "scrolled": true
   },
   "outputs": [],
   "source": [
    "albert_age = 18 \n",
    "while True:\n",
    "    guess = int(input(\">>:\"))\n",
    "    if guess > albert_age :\n",
    "        print(\"猜的太大了，往小里试试...\")\n",
    "    elif guess < albert_age :\n",
    "        print(\"猜的太小了，往大里试试...\")\n",
    "    else:\n",
    "        print(\"恭喜你，猜对了...\")\n",
    "        break    # 当诉求得到满足，就跳出循环"
   ]
  },
  {
   "cell_type": "markdown",
   "metadata": {},
   "source": [
    "输出10以内的奇数"
   ]
  },
  {
   "cell_type": "code",
   "execution_count": 1,
   "metadata": {},
   "outputs": [
    {
     "name": "stdout",
     "output_type": "stream",
     "text": [
      "1\n",
      "3\n",
      "5\n",
      "7\n",
      "9\n"
     ]
    }
   ],
   "source": [
    "i = 0\n",
    "while i < 10:\n",
    "    i += 1\n",
    "    if i % 2 == 0:\n",
    "        continue       # 跳出本次循环，进入下一次循环\n",
    "    print(i)"
   ]
  },
  {
   "cell_type": "markdown",
   "metadata": {},
   "source": [
    "### 4.5 while与else"
   ]
  },
  {
   "cell_type": "markdown",
   "metadata": {},
   "source": [
    "如果while 循环全部执行完毕，没有被break中止，则运行else块"
   ]
  },
  {
   "cell_type": "code",
   "execution_count": 2,
   "metadata": {},
   "outputs": [
    {
     "name": "stdout",
     "output_type": "stream",
     "text": [
      "Loop 1\n",
      "Loop 2\n",
      "Loop 3\n",
      "Loop 4\n",
      "Loop 5\n",
      "Loop 6\n",
      "循环正常执行完啦\n"
     ]
    }
   ],
   "source": [
    "count = 0\n",
    "while count <= 5 :\n",
    "    count += 1\n",
    "    print(\"Loop\",count)\n",
    "else:\n",
    "    print(\"循环正常执行完啦\")"
   ]
  },
  {
   "cell_type": "markdown",
   "metadata": {},
   "source": [
    "### 4.6 再看两个例子"
   ]
  },
  {
   "cell_type": "markdown",
   "metadata": {},
   "source": [
    "【小例子】删除列表中的特定值"
   ]
  },
  {
   "cell_type": "code",
   "execution_count": 4,
   "metadata": {},
   "outputs": [],
   "source": [
    "pets = [\"dog\", \"cat\", \"dog\", \"pig\", \"goldfish\", \"rabbit\", \"cat\"]"
   ]
  },
  {
   "cell_type": "code",
   "execution_count": 5,
   "metadata": {},
   "outputs": [
    {
     "data": {
      "text/plain": [
       "['dog', 'dog', 'pig', 'goldfish', 'rabbit']"
      ]
     },
     "execution_count": 5,
     "metadata": {},
     "output_type": "execute_result"
    }
   ],
   "source": [
    "while \"cat\" in pets:\n",
    "    pets.remove(\"cat\")\n",
    "pets"
   ]
  },
  {
   "cell_type": "markdown",
   "metadata": {},
   "source": [
    "【小例子】将未读书籍列表中书名分别输出后，存入已读书籍列表"
   ]
  },
  {
   "cell_type": "code",
   "execution_count": 6,
   "metadata": {},
   "outputs": [
    {
     "name": "stdout",
     "output_type": "stream",
     "text": [
      "我已经读过《西游记》了\n",
      "我已经读过《三国演义》了\n",
      "我已经读过《水浒传》了\n",
      "我已经读过《红楼梦》了\n",
      "[]\n",
      "['西游记', '三国演义', '水浒传', '红楼梦']\n"
     ]
    }
   ],
   "source": [
    "not_read = [\"红楼梦\", \"水浒传\", \"三国演义\", \"西游记\"]\n",
    "have_read = []\n",
    "while not_read:     # not_read非空，循环继续，否则中止\n",
    "    book = not_read.pop()\n",
    "    have_read.append(book)\n",
    "    print(\"我已经读过《{}》了\".format(book))\n",
    "print(not_read)\n",
    "print(have_read)"
   ]
  },
  {
   "cell_type": "markdown",
   "metadata": {},
   "source": [
    "# 第五部分 控制语句注意问题"
   ]
  },
  {
   "cell_type": "markdown",
   "metadata": {},
   "source": [
    "### 5.1 尽可能减少多层嵌套"
   ]
  },
  {
   "cell_type": "markdown",
   "metadata": {},
   "source": [
    "* 可读性差，容易把人搞疯掉"
   ]
  },
  {
   "cell_type": "code",
   "execution_count": null,
   "metadata": {},
   "outputs": [],
   "source": [
    "if 条件:\n",
    "    执行语句\n",
    "    if 条件：\n",
    "        执行语句\n",
    "        if..."
   ]
  },
  {
   "cell_type": "markdown",
   "metadata": {},
   "source": [
    "### 5.2 避免死循环"
   ]
  },
  {
   "cell_type": "markdown",
   "metadata": {},
   "source": [
    "条件一直成立，循环永无止境"
   ]
  },
  {
   "cell_type": "code",
   "execution_count": null,
   "metadata": {},
   "outputs": [],
   "source": [
    "# while True:\n",
    "    # print(\"天地之渺渺，时间之无限\")"
   ]
  },
  {
   "cell_type": "markdown",
   "metadata": {},
   "source": [
    "### 5.3 封装过于复杂的判断条件"
   ]
  },
  {
   "cell_type": "markdown",
   "metadata": {},
   "source": [
    "如果条件判断里的表达式过于复杂   "
   ]
  },
  {
   "cell_type": "markdown",
   "metadata": {},
   "source": [
    "出现了太多的 not/and/or等   "
   ]
  },
  {
   "cell_type": "markdown",
   "metadata": {},
   "source": [
    "导致可读性大打折扣"
   ]
  },
  {
   "cell_type": "markdown",
   "metadata": {},
   "source": [
    "**考虑将条件封装为函数**"
   ]
  },
  {
   "cell_type": "code",
   "execution_count": null,
   "metadata": {},
   "outputs": [],
   "source": [
    "a, b, c, d, e = 10, 8, 6, 2, 0\n",
    "if (a > b) and (c >d) and (not e):\n",
    "    print(\"我已经晕鸟\")"
   ]
  },
  {
   "cell_type": "code",
   "execution_count": 7,
   "metadata": {},
   "outputs": [
    {
     "name": "stdout",
     "output_type": "stream",
     "text": [
      "就是这个feel，biu倍儿爽\n"
     ]
    }
   ],
   "source": [
    "numbers = (10, 8, 6, 2, 0)\n",
    "\n",
    "\n",
    "def judge(num):\n",
    "    a, b, c, d, e = num\n",
    "    x = a > b\n",
    "    y = c > d\n",
    "    z = not e\n",
    "    return x and y and z\n",
    "\n",
    "\n",
    "if judge(numbers):\n",
    "    print(\"就是这个feel，biu倍儿爽\")"
   ]
  },
  {
   "cell_type": "code",
   "execution_count": null,
   "metadata": {},
   "outputs": [],
   "source": []
  }
 ],
 "metadata": {
  "kernelspec": {
   "display_name": "Python 3",
   "language": "python",
   "name": "python3"
  },
  "language_info": {
   "codemirror_mode": {
    "name": "ipython",
    "version": 3
   },
   "file_extension": ".py",
   "mimetype": "text/x-python",
   "name": "python",
   "nbconvert_exporter": "python",
   "pygments_lexer": "ipython3",
   "version": "3.7.3"
  }
 },
 "nbformat": 4,
 "nbformat_minor": 2
}
