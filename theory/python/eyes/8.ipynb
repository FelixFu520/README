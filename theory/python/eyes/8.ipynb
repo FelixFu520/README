{
 "cells": [
  {
   "cell_type": "markdown",
   "metadata": {},
   "source": [
    "# 第八章 文件、异常和模块"
   ]
  },
  {
   "cell_type": "markdown",
   "metadata": {},
   "source": [
    "**实际应用中，我们绝大多数的数据都是通过文件的交互完成的**"
   ]
  },
  {
   "cell_type": "markdown",
   "metadata": {},
   "source": [
    "## 8.1 文件的读写"
   ]
  },
  {
   "cell_type": "markdown",
   "metadata": {},
   "source": [
    "### 8.1.1 文件的打开"
   ]
  },
  {
   "cell_type": "markdown",
   "metadata": {},
   "source": [
    "* 文件的打开通用格式"
   ]
  },
  {
   "cell_type": "code",
   "execution_count": null,
   "metadata": {},
   "outputs": [],
   "source": [
    "with open(\"文件路径\", \"打开模式\", encoding = \"操作文件的字符编码\") as f:\n",
    "    \"对文件进行相应的读写操作\"\n",
    "使用with 块的好处：执行完毕后，自动对文件进行close操作。"
   ]
  },
  {
   "cell_type": "markdown",
   "metadata": {},
   "source": [
    "【例1】一个简单的文件读取"
   ]
  },
  {
   "cell_type": "code",
   "execution_count": 2,
   "metadata": {
    "scrolled": true
   },
   "outputs": [
    {
     "name": "stdout",
     "output_type": "stream",
     "text": [
      "我是一个测试文件\n"
     ]
    }
   ],
   "source": [
    "with open(\"E:\\ipython\\测试文件.txt\", \"r\", encoding = \"gbk\") as f:     # 第一步：打开文件\n",
    "    text = f.read()                                                   # 第二步：读取文件\n",
    "    print(text)"
   ]
  },
  {
   "cell_type": "markdown",
   "metadata": {},
   "source": [
    "**1、文件路径**"
   ]
  },
  {
   "cell_type": "markdown",
   "metadata": {},
   "source": [
    "* 完整路径，如上例所示"
   ]
  },
  {
   "cell_type": "markdown",
   "metadata": {},
   "source": [
    "* 程序与文件在同一文件夹，可简化成文件名"
   ]
  },
  {
   "cell_type": "code",
   "execution_count": 3,
   "metadata": {},
   "outputs": [
    {
     "name": "stdout",
     "output_type": "stream",
     "text": [
      "我是一个测试文件\n"
     ]
    }
   ],
   "source": [
    "with open(\"测试文件.txt\", \"r\", encoding = \"gbk\") as f:     # 第一步：打开文件\n",
    "    text = f.read()                                        # 第二步：读取文件\n",
    "    print(text)"
   ]
  },
  {
   "cell_type": "markdown",
   "metadata": {},
   "source": [
    "**2、打开模式**"
   ]
  },
  {
   "cell_type": "markdown",
   "metadata": {},
   "source": [
    "*  \"r\" &ensp;只读模式，如文件不存在，报错"
   ]
  },
  {
   "cell_type": "markdown",
   "metadata": {},
   "source": [
    "* \"w\"&ensp;覆盖写模式，如文件不存在，则创建；如文件存在，则完全覆盖原文件"
   ]
  },
  {
   "cell_type": "markdown",
   "metadata": {},
   "source": [
    "* \"x\"&ensp;创建写模式，如文件不存在，则创建；如文件存在，报错"
   ]
  },
  {
   "cell_type": "markdown",
   "metadata": {},
   "source": [
    "* \"a\" &ensp;追加写模式，如文件不存在，则创建；如文件存在，则在原文件后追加内容"
   ]
  },
  {
   "cell_type": "markdown",
   "metadata": {},
   "source": [
    "* \"b\" 二进制文件模式，不能单独使用，需要配合使用如\"rb\"，\"wb\"，\"ab\"，**该模式不需指定encoding**"
   ]
  },
  {
   "cell_type": "markdown",
   "metadata": {},
   "source": [
    "* \"t\" 文本文件模式，默认值，需配合使用 如\"rt\"，\"wt\"，\"at\"，一般省略，简写成如\"r\"，\"w\"，\"a\""
   ]
  },
  {
   "cell_type": "markdown",
   "metadata": {},
   "source": [
    "* \"+\"，与\"r\",\"w\",\"x\",\"a\"配合使用，在原功能基础上，增加读写功能"
   ]
  },
  {
   "cell_type": "markdown",
   "metadata": {},
   "source": [
    "* **打开模式缺省，默认为只读模式**"
   ]
  },
  {
   "cell_type": "markdown",
   "metadata": {},
   "source": [
    "**3、字符编码**"
   ]
  },
  {
   "cell_type": "markdown",
   "metadata": {},
   "source": [
    "* **万国码 utf-8**"
   ]
  },
  {
   "cell_type": "markdown",
   "metadata": {},
   "source": [
    "包含全世界所有国家需要用到的字符"
   ]
  },
  {
   "cell_type": "markdown",
   "metadata": {},
   "source": [
    "* **中文编码 gbk**"
   ]
  },
  {
   "cell_type": "markdown",
   "metadata": {},
   "source": [
    "专门解决中文编码问题"
   ]
  },
  {
   "cell_type": "markdown",
   "metadata": {},
   "source": [
    "* **windows系统下，如果缺省，则默认为gbk（所在区域的编码）**"
   ]
  },
  {
   "cell_type": "markdown",
   "metadata": {},
   "source": [
    "* 为清楚起见，除了处理二进制文件，**建议不要缺省encoding**"
   ]
  },
  {
   "cell_type": "markdown",
   "metadata": {},
   "source": [
    "### 8.1.2 文件的读取"
   ]
  },
  {
   "cell_type": "markdown",
   "metadata": {},
   "source": [
    "1、**读取整个内容——f.read()**"
   ]
  },
  {
   "cell_type": "code",
   "execution_count": 4,
   "metadata": {
    "scrolled": false
   },
   "outputs": [
    {
     "name": "stdout",
     "output_type": "stream",
     "text": [
      "临江仙·滚滚长江东逝水\n",
      "滚滚长江东逝水，浪花淘尽英雄。\n",
      "是非成败转头空。\n",
      "青山依旧在，几度夕阳红。\n",
      "白发渔樵江渚上，惯看秋月春风。\n",
      "一壶浊酒喜相逢。\n",
      "古今多少事，都付笑谈中。\n",
      "\n"
     ]
    }
   ],
   "source": [
    "with open(\"三国演义片头曲_utf.txt\", \"r\", encoding=\"utf-8\") as f:       # 第一步：打开文件\n",
    "    text = f.read()                                                    # 第二步：读取文件\n",
    "    print(text)"
   ]
  },
  {
   "cell_type": "code",
   "execution_count": 5,
   "metadata": {},
   "outputs": [
    {
     "name": "stdout",
     "output_type": "stream",
     "text": [
      "临江仙·滚滚长江东逝水\n",
      "滚滚长江东逝水，浪花淘尽英雄。\n",
      "是非成败转头空。\n",
      "青山依旧在，几度夕阳红。\n",
      "白发渔樵江渚上，惯看秋月春风。\n",
      "一壶浊酒喜相逢。\n",
      "古今多少事，都付笑谈中。\n",
      "\n"
     ]
    }
   ],
   "source": [
    "with open(\"三国演义片头曲_utf.txt\", encoding=\"utf-8\") as f:     # \"r\"，可缺省，为清晰起见，最好写上\n",
    "    text = f.read()                                                   \n",
    "    print(text)"
   ]
  },
  {
   "cell_type": "markdown",
   "metadata": {},
   "source": [
    "* 解码模式不匹配"
   ]
  },
  {
   "cell_type": "code",
   "execution_count": 6,
   "metadata": {},
   "outputs": [
    {
     "ename": "UnicodeDecodeError",
     "evalue": "'gbk' codec can't decode byte 0x80 in position 50: illegal multibyte sequence",
     "output_type": "error",
     "traceback": [
      "\u001b[1;31m---------------------------------------------------------------------------\u001b[0m",
      "\u001b[1;31mUnicodeDecodeError\u001b[0m                        Traceback (most recent call last)",
      "\u001b[1;32m<ipython-input-6-8e9ea685585d>\u001b[0m in \u001b[0;36m<module>\u001b[1;34m\u001b[0m\n\u001b[0;32m      1\u001b[0m \u001b[1;32mwith\u001b[0m \u001b[0mopen\u001b[0m\u001b[1;33m(\u001b[0m\u001b[1;34m\"三国演义片头曲_utf.txt\"\u001b[0m\u001b[1;33m,\u001b[0m \u001b[1;34m\"r\"\u001b[0m\u001b[1;33m,\u001b[0m \u001b[0mencoding\u001b[0m\u001b[1;33m=\u001b[0m\u001b[1;34m\"gbk\"\u001b[0m\u001b[1;33m)\u001b[0m \u001b[1;32mas\u001b[0m \u001b[0mf\u001b[0m\u001b[1;33m:\u001b[0m\u001b[1;33m\u001b[0m\u001b[1;33m\u001b[0m\u001b[0m\n\u001b[1;32m----> 2\u001b[1;33m     \u001b[0mtext\u001b[0m \u001b[1;33m=\u001b[0m \u001b[0mf\u001b[0m\u001b[1;33m.\u001b[0m\u001b[0mread\u001b[0m\u001b[1;33m(\u001b[0m\u001b[1;33m)\u001b[0m\u001b[1;33m\u001b[0m\u001b[1;33m\u001b[0m\u001b[0m\n\u001b[0m\u001b[0;32m      3\u001b[0m     \u001b[0mprint\u001b[0m\u001b[1;33m(\u001b[0m\u001b[0mtext\u001b[0m\u001b[1;33m)\u001b[0m\u001b[1;33m\u001b[0m\u001b[1;33m\u001b[0m\u001b[0m\n",
      "\u001b[1;31mUnicodeDecodeError\u001b[0m: 'gbk' codec can't decode byte 0x80 in position 50: illegal multibyte sequence"
     ]
    }
   ],
   "source": [
    "with open(\"三国演义片头曲_utf.txt\", \"r\", encoding=\"gbk\") as f:     \n",
    "    text = f.read()                                                    \n",
    "    print(text)"
   ]
  },
  {
   "cell_type": "code",
   "execution_count": 7,
   "metadata": {},
   "outputs": [
    {
     "ename": "UnicodeDecodeError",
     "evalue": "'gbk' codec can't decode byte 0x80 in position 50: illegal multibyte sequence",
     "output_type": "error",
     "traceback": [
      "\u001b[1;31m---------------------------------------------------------------------------\u001b[0m",
      "\u001b[1;31mUnicodeDecodeError\u001b[0m                        Traceback (most recent call last)",
      "\u001b[1;32m<ipython-input-7-480622bc01aa>\u001b[0m in \u001b[0;36m<module>\u001b[1;34m\u001b[0m\n\u001b[0;32m      1\u001b[0m \u001b[1;32mwith\u001b[0m \u001b[0mopen\u001b[0m\u001b[1;33m(\u001b[0m\u001b[1;34m\"三国演义片头曲_utf.txt\"\u001b[0m\u001b[1;33m,\u001b[0m \u001b[1;34m\"r\"\u001b[0m\u001b[1;33m)\u001b[0m \u001b[1;32mas\u001b[0m \u001b[0mf\u001b[0m\u001b[1;33m:\u001b[0m     \u001b[1;31m# encoding缺省，windows系统默认为\"gbk\"\u001b[0m\u001b[1;33m\u001b[0m\u001b[1;33m\u001b[0m\u001b[0m\n\u001b[1;32m----> 2\u001b[1;33m     \u001b[0mtext\u001b[0m \u001b[1;33m=\u001b[0m \u001b[0mf\u001b[0m\u001b[1;33m.\u001b[0m\u001b[0mread\u001b[0m\u001b[1;33m(\u001b[0m\u001b[1;33m)\u001b[0m\u001b[1;33m\u001b[0m\u001b[1;33m\u001b[0m\u001b[0m\n\u001b[0m\u001b[0;32m      3\u001b[0m     \u001b[0mprint\u001b[0m\u001b[1;33m(\u001b[0m\u001b[0mtext\u001b[0m\u001b[1;33m)\u001b[0m\u001b[1;33m\u001b[0m\u001b[1;33m\u001b[0m\u001b[0m\n",
      "\u001b[1;31mUnicodeDecodeError\u001b[0m: 'gbk' codec can't decode byte 0x80 in position 50: illegal multibyte sequence"
     ]
    }
   ],
   "source": [
    "with open(\"三国演义片头曲_utf.txt\", \"r\") as f:     # encoding缺省，windows系统默认为\"gbk\"\n",
    "    text = f.read()                                                    \n",
    "    print(text)"
   ]
  },
  {
   "cell_type": "markdown",
   "metadata": {},
   "source": [
    "2、**逐行进行读取——f.readline()**"
   ]
  },
  {
   "cell_type": "code",
   "execution_count": 14,
   "metadata": {
    "scrolled": true
   },
   "outputs": [
    {
     "name": "stdout",
     "output_type": "stream",
     "text": [
      "临江仙·滚滚长江东逝水\n",
      "\n",
      "滚滚长江东逝水，浪花淘尽英雄。\n",
      "\n",
      "是非成败转头空。\n",
      "\n"
     ]
    }
   ],
   "source": [
    "with open(\"三国演义片头曲_gbk.txt\", \"r\", encoding=\"gbk\") as f:     \n",
    "    for i in range(3):\n",
    "        text = f.readline()                                                   # 每次只读取一行\n",
    "        print(text)"
   ]
  },
  {
   "cell_type": "code",
   "execution_count": 20,
   "metadata": {
    "scrolled": true
   },
   "outputs": [
    {
     "name": "stdout",
     "output_type": "stream",
     "text": [
      "临江仙·滚滚长江东逝水\n",
      "滚滚长江东逝水，浪花淘尽英雄。\n",
      "是非成败转头空。\n",
      "\n",
      "青山依旧在，几度夕阳红。\n",
      "白发渔樵江渚上，惯看秋月春风。\n",
      "一壶浊酒喜相逢。\n",
      "古今多少事，都付笑谈中。\n"
     ]
    }
   ],
   "source": [
    "with open(\"三国演义片头曲_gbk.txt\", \"r\", encoding=\"gbk\") as f:     \n",
    "    while True:\n",
    "        text = f.readline()\n",
    "        if not text:\n",
    "            # print(text is \"\")\n",
    "            break\n",
    "        else:\n",
    "            # print(text == \"\\n\")\n",
    "            print(text, end=\"\")      # 保留原文的换行，使print()的换行不起作用"
   ]
  },
  {
   "cell_type": "markdown",
   "metadata": {},
   "source": [
    "3、**读入所有行，以每行为元素形成一个列表——f.readlines()**"
   ]
  },
  {
   "cell_type": "code",
   "execution_count": 21,
   "metadata": {},
   "outputs": [
    {
     "name": "stdout",
     "output_type": "stream",
     "text": [
      "['临江仙·滚滚长江东逝水\\n', '滚滚长江东逝水，浪花淘尽英雄。\\n', '是非成败转头空。\\n', '\\n', '青山依旧在，几度夕阳红。\\n', '白发渔樵江渚上，惯看秋月春风。\\n', '一壶浊酒喜相逢。\\n', '古今多少事，都付笑谈中。\\n']\n"
     ]
    }
   ],
   "source": [
    "with open(\"三国演义片头曲_gbk.txt\", \"r\", encoding=\"gbk\") as f:\n",
    "    text = f.readlines()              # 注意每行末尾有换行符\n",
    "    print(text)               "
   ]
  },
  {
   "cell_type": "code",
   "execution_count": 22,
   "metadata": {
    "scrolled": true
   },
   "outputs": [
    {
     "name": "stdout",
     "output_type": "stream",
     "text": [
      "临江仙·滚滚长江东逝水\n",
      "\n",
      "滚滚长江东逝水，浪花淘尽英雄。\n",
      "\n",
      "是非成败转头空。\n",
      "\n",
      "\n",
      "\n",
      "青山依旧在，几度夕阳红。\n",
      "\n",
      "白发渔樵江渚上，惯看秋月春风。\n",
      "\n",
      "一壶浊酒喜相逢。\n",
      "\n",
      "古今多少事，都付笑谈中。\n",
      "\n"
     ]
    }
   ],
   "source": [
    "with open(\"三国演义片头曲_gbk.txt\", \"r\", encoding=\"gbk\") as f:     \n",
    "    for text in f.readlines():                                                   \n",
    "        print(text)                # 不想换行则用print(text, end=\"\")         "
   ]
  },
  {
   "cell_type": "markdown",
   "metadata": {},
   "source": [
    "4、**文本文件读取小结**"
   ]
  },
  {
   "cell_type": "markdown",
   "metadata": {},
   "source": [
    "文件比较大时，read()和readlines()占用内存过大，不建议使用"
   ]
  },
  {
   "cell_type": "markdown",
   "metadata": {},
   "source": [
    "readline用起来又不太方便"
   ]
  },
  {
   "cell_type": "code",
   "execution_count": 23,
   "metadata": {},
   "outputs": [
    {
     "name": "stdout",
     "output_type": "stream",
     "text": [
      "临江仙·滚滚长江东逝水\n",
      "\n",
      "滚滚长江东逝水，浪花淘尽英雄。\n",
      "\n",
      "是非成败转头空。\n",
      "\n",
      "\n",
      "\n",
      "青山依旧在，几度夕阳红。\n",
      "\n",
      "白发渔樵江渚上，惯看秋月春风。\n",
      "\n",
      "一壶浊酒喜相逢。\n",
      "\n",
      "古今多少事，都付笑谈中。\n",
      "\n"
     ]
    }
   ],
   "source": [
    "with open(\"三国演义片头曲_gbk.txt\", \"r\", encoding=\"gbk\") as f:     \n",
    "    for text in f:         # f本身就是一个可迭代对象，每次迭代读取一行内容 \n",
    "        print(text)  "
   ]
  },
  {
   "cell_type": "markdown",
   "metadata": {},
   "source": [
    "5、**二进制文件**"
   ]
  },
  {
   "cell_type": "markdown",
   "metadata": {},
   "source": [
    "图片：二进制文件"
   ]
  },
  {
   "cell_type": "code",
   "execution_count": 24,
   "metadata": {
    "scrolled": true
   },
   "outputs": [
    {
     "name": "stdout",
     "output_type": "stream",
     "text": [
      "69\n"
     ]
    }
   ],
   "source": [
    "with open(\"test.jpg\", \"rb\") as f:     \n",
    "        print(len(f.readlines()))"
   ]
  },
  {
   "cell_type": "markdown",
   "metadata": {},
   "source": [
    "### 8.1.3 文件的写入"
   ]
  },
  {
   "cell_type": "markdown",
   "metadata": {},
   "source": [
    "1、**向文件写入一个字符串或字节流（二进制）——f.write()**"
   ]
  },
  {
   "cell_type": "code",
   "execution_count": 27,
   "metadata": {},
   "outputs": [],
   "source": [
    "with open(\"恋曲1980.txt\", \"w\", encoding=\"utf-8\") as f:                      \n",
    "        f.write(\"你曾经对我说\\n\")        # 文件不存在则立刻创建一个\n",
    "        f.write(\"你永远爱着我\\n\")        # 如需换行，末尾加换行符\\n\n",
    "        f.write(\"爱情这东西我明白\\n\")\n",
    "        f.write(\"但永远是什么\\n\")"
   ]
  },
  {
   "cell_type": "code",
   "execution_count": 26,
   "metadata": {},
   "outputs": [],
   "source": [
    "with open(\"恋曲1980.txt\", \"w\", encoding=\"utf-8\") as f:                      \n",
    "        f.write(\"姑娘你别哭泣\\n\")        # 如果文件存在，新写入内容会覆盖掉原内容，一定要注意！！！\n",
    "        f.write(\"我俩还在一起\\n\")        \n",
    "        f.write(\"今天的欢乐\\n\")\n",
    "        f.write(\"将是明天创痛的回忆\\n\")"
   ]
  },
  {
   "cell_type": "markdown",
   "metadata": {},
   "source": [
    "2、**追加模式——\"a\"**"
   ]
  },
  {
   "cell_type": "code",
   "execution_count": 28,
   "metadata": {},
   "outputs": [],
   "source": [
    "with open(\"恋曲1980.txt\", \"a\", encoding=\"utf-8\") as f:                      \n",
    "        f.write(\"姑娘你别哭泣\\n\")        # 如果文件存在，新写入内容会覆盖掉原内容，一定要注意！！！\n",
    "        f.write(\"我俩还在一起\\n\")        \n",
    "        f.write(\"今天的欢乐\\n\")\n",
    "        f.write(\"将是明天创痛的回忆\\n\")"
   ]
  },
  {
   "cell_type": "markdown",
   "metadata": {},
   "source": [
    "3、**将一个元素为字符串的列表整体写入文件——f.writelines()**"
   ]
  },
  {
   "cell_type": "code",
   "execution_count": 29,
   "metadata": {},
   "outputs": [],
   "source": [
    "ls = [\"春天刮着风\", \"秋天下着雨\", \"春风秋雨多少海誓山盟随风远去\"]\n",
    "with open(\"恋曲1980.txt\", \"w\", encoding=\"utf-8\") as f:\n",
    "    f.writelines(ls)"
   ]
  },
  {
   "cell_type": "code",
   "execution_count": 30,
   "metadata": {},
   "outputs": [],
   "source": [
    "ls = [\"春天刮着风\\n\", \"秋天下着雨\\n\", \"春风秋雨多少海誓山盟随风远去\\n\"]\n",
    "with open(\"恋曲1980.txt\", \"w\", encoding=\"utf-8\") as f:\n",
    "    f.writelines(ls)"
   ]
  },
  {
   "cell_type": "markdown",
   "metadata": {},
   "source": [
    "### 8.1.4 既读又写"
   ]
  },
  {
   "cell_type": "markdown",
   "metadata": {},
   "source": [
    "1、**\"r+\"**  \n",
    "* 如果文件名不存在，则报错\n",
    "* 指针在开始\n",
    "* 要把指针移到末尾才能开始写，否则会覆盖前面内容"
   ]
  },
  {
   "cell_type": "code",
   "execution_count": 33,
   "metadata": {
    "scrolled": true
   },
   "outputs": [],
   "source": [
    "with open(\"浪淘沙_北戴河.txt\", \"r+\", encoding=\"gbk\") as f:\n",
    "#     for line in f:\n",
    "#         print(line)   # 全部读一遍后，指针到达结尾\n",
    "    f.seek(0,2)         # 或者可以将指针移到末尾f.seek(偏移字节数,位置（0：开始；1：当前位置；2：结尾）)\n",
    "    text = [\"萧瑟秋风今又是，\\n\", \"换了人间。\\n\"]\n",
    "    f.writelines(text)"
   ]
  },
  {
   "cell_type": "markdown",
   "metadata": {},
   "source": [
    "2、**\"w+\"**\n",
    "* 若文件不存在，则创建\n",
    "* 若文件存在，会立刻清空原内容！！！"
   ]
  },
  {
   "cell_type": "code",
   "execution_count": 34,
   "metadata": {},
   "outputs": [],
   "source": [
    "with open(\"浪淘沙_北戴河.txt\", \"w+\", encoding=\"gbk\") as f:\n",
    "    pass"
   ]
  },
  {
   "cell_type": "code",
   "execution_count": 36,
   "metadata": {},
   "outputs": [
    {
     "name": "stdout",
     "output_type": "stream",
     "text": [
      "\n"
     ]
    }
   ],
   "source": [
    "with open(\"浪淘沙_北戴河.txt\", \"w+\", encoding=\"gbk\") as f:\n",
    "    text = [\"萧瑟秋风今又是，\\n\", \"换了人间。\\n\"]  # 清空原内容\n",
    "    f.writelines(text)                             # 写入新内容，指针在最后\n",
    "    f.seek(0,0)            # 指针移到开始\n",
    "    print(f.read())        # 读取内容"
   ]
  },
  {
   "cell_type": "markdown",
   "metadata": {},
   "source": [
    "3、**\"a+\"**\n",
    "* 若文件不存在，则创建\n",
    "* 指针在末尾，添加新内容，不会清空原内容"
   ]
  },
  {
   "cell_type": "code",
   "execution_count": 37,
   "metadata": {},
   "outputs": [
    {
     "name": "stdout",
     "output_type": "stream",
     "text": [
      "大雨落幽燕，\n",
      "白浪滔天。\n",
      "秦皇岛外打鱼船。\n",
      "一片汪洋都不见，\n",
      "知向谁边？\n",
      "往事越千年，\n",
      "魏武挥鞭，\n",
      "东临碣石有遗篇。\n",
      "萧瑟秋风今又是，\n",
      "换了人间。\n"
     ]
    }
   ],
   "source": [
    "with open(\"浪淘沙_北戴河.txt\", \"a+\", encoding=\"gbk\") as f:\n",
    "    f.seek(0,0)            # 指针移到开始\n",
    "    print(f.read())        # 读取内容"
   ]
  },
  {
   "cell_type": "code",
   "execution_count": 41,
   "metadata": {},
   "outputs": [
    {
     "name": "stdout",
     "output_type": "stream",
     "text": [
      "大雨落幽燕，\n",
      "白浪滔天。\n",
      "秦皇岛外打鱼船。\n",
      "一片汪洋都不见，\n",
      "知向谁边？\n",
      "往事越千年，\n",
      "魏武挥鞭，\n",
      "东临碣石有遗篇。\n",
      "萧瑟秋风今又是，\n",
      "换了人间。\n",
      "萧瑟秋风今又是，\n",
      "换了人间。\n",
      "\n"
     ]
    }
   ],
   "source": [
    "with open(\"浪淘沙_北戴河.txt\", \"a+\", encoding=\"gbk\") as f:\n",
    "    text = [\"萧瑟秋风今又是，\\n\", \"换了人间。\\n\"]  \n",
    "    f.writelines(text)                             # 指针在最后,追加新内容， \n",
    "    f.seek(0,0)            # 指针移到开始\n",
    "    print(f.read())        # 读取内容"
   ]
  },
  {
   "cell_type": "markdown",
   "metadata": {},
   "source": [
    "### 8.1.5 数据的存储与读取"
   ]
  },
  {
   "cell_type": "markdown",
   "metadata": {},
   "source": [
    "**通用的数据格式，可以在不同语言中加载和存储**  "
   ]
  },
  {
   "cell_type": "markdown",
   "metadata": {},
   "source": [
    "**本节简单了解两种数据存储结构csv和json**"
   ]
  },
  {
   "cell_type": "markdown",
   "metadata": {},
   "source": [
    "1、**csv格式**"
   ]
  },
  {
   "cell_type": "markdown",
   "metadata": {},
   "source": [
    "由逗号将数据分开的字符序列，可以由excel打开"
   ]
  },
  {
   "cell_type": "markdown",
   "metadata": {},
   "source": [
    "* **读取**"
   ]
  },
  {
   "cell_type": "code",
   "execution_count": 42,
   "metadata": {},
   "outputs": [
    {
     "name": "stdout",
     "output_type": "stream",
     "text": [
      "['编号', '数学成绩', '语文成绩']\n",
      "['1', '100', '98']\n",
      "['2', '96', '99']\n",
      "['3', '97', '95']\n"
     ]
    }
   ],
   "source": [
    "with open(\"成绩.csv\", \"r\", encoding=\"gbk\") as f:\n",
    "    ls = [] \n",
    "    for line in f:                              # 逐行读取\n",
    "        ls.append(line.strip(\"\\n\").split(\",\"))  # 去掉每行的换行符，然后用“,”进行分割\n",
    "for res in ls:\n",
    "    print(res)"
   ]
  },
  {
   "cell_type": "markdown",
   "metadata": {},
   "source": [
    "* **写入**"
   ]
  },
  {
   "cell_type": "code",
   "execution_count": 43,
   "metadata": {},
   "outputs": [],
   "source": [
    "ls = [['编号', '数学成绩', '语文成绩'], ['1', '100', '98'], ['2', '96', '99'], ['3', '97', '95']]\n",
    "with open(\"score.csv\", \"w\", encoding=\"gbk\") as f:   # encoding=\"utf-8\"中文出现乱码\n",
    "    for row in ls:                                  # 逐行写入\n",
    "        f.write(\",\".join(row)+\"\\n\")                 # 用逗号组合成字符串形式，末尾加换行符"
   ]
  },
  {
   "cell_type": "markdown",
   "metadata": {},
   "source": [
    "**也可以借助csv模块完成上述操作**"
   ]
  },
  {
   "cell_type": "markdown",
   "metadata": {},
   "source": [
    "2、**json格式** "
   ]
  },
  {
   "cell_type": "markdown",
   "metadata": {},
   "source": [
    "常被用来存储字典类型"
   ]
  },
  {
   "cell_type": "markdown",
   "metadata": {},
   "source": [
    "* **写入——dump()**"
   ]
  },
  {
   "cell_type": "code",
   "execution_count": 47,
   "metadata": {},
   "outputs": [],
   "source": [
    "import json\n",
    "\n",
    "scores = {\"Petter\":{\"math\":96 , \"physics\": 98},\n",
    "        \"Paul\":{\"math\":92 , \"physics\": 99},\n",
    "        \"Mary\":{\"math\":98 , \"physics\": 97}}\n",
    "with open(\"score.json\", \"w\", encoding=\"utf-8\") as f:             # 写入整个对象 \n",
    "        # indent 表示字符串换行+缩进 ensure_ascii=False 显示中文\n",
    "        json.dump(scores, f, indent=4, ensure_ascii=False)       \n",
    "        "
   ]
  },
  {
   "cell_type": "markdown",
   "metadata": {},
   "source": [
    "* **读取——load()**"
   ]
  },
  {
   "cell_type": "code",
   "execution_count": 48,
   "metadata": {},
   "outputs": [
    {
     "name": "stdout",
     "output_type": "stream",
     "text": [
      "Petter {'math': 96, 'physics': 98}\n",
      "Paul {'math': 92, 'physics': 99}\n",
      "Mary {'math': 98, 'physics': 97}\n"
     ]
    }
   ],
   "source": [
    "with open(\"score.json\", \"r\", encoding=\"utf-8\") as f:                                         \n",
    "        scores = json.load(f)           # 加载整个对象\n",
    "        for k,v in scores.items():\n",
    "            print(k,v)"
   ]
  },
  {
   "cell_type": "markdown",
   "metadata": {},
   "source": [
    "## 8.2 异常处理"
   ]
  },
  {
   "cell_type": "markdown",
   "metadata": {},
   "source": [
    "### 8.2.1 常见异常的产生"
   ]
  },
  {
   "cell_type": "markdown",
   "metadata": {},
   "source": [
    "1、**除0运算——ZeroDivisionError**"
   ]
  },
  {
   "cell_type": "code",
   "execution_count": 1,
   "metadata": {},
   "outputs": [
    {
     "ename": "ZeroDivisionError",
     "evalue": "division by zero",
     "output_type": "error",
     "traceback": [
      "\u001b[1;31m---------------------------------------------------------------------------\u001b[0m",
      "\u001b[1;31mZeroDivisionError\u001b[0m                         Traceback (most recent call last)",
      "\u001b[1;32m<ipython-input-1-9e1622b385b6>\u001b[0m in \u001b[0;36m<module>\u001b[1;34m\u001b[0m\n\u001b[1;32m----> 1\u001b[1;33m \u001b[1;36m1\u001b[0m\u001b[1;33m/\u001b[0m\u001b[1;36m0\u001b[0m\u001b[1;33m\u001b[0m\u001b[1;33m\u001b[0m\u001b[0m\n\u001b[0m",
      "\u001b[1;31mZeroDivisionError\u001b[0m: division by zero"
     ]
    }
   ],
   "source": [
    "1/0"
   ]
  },
  {
   "cell_type": "markdown",
   "metadata": {},
   "source": [
    "2、**找不到可读文件——FileNotFoundError**"
   ]
  },
  {
   "cell_type": "code",
   "execution_count": 2,
   "metadata": {},
   "outputs": [
    {
     "ename": "FileNotFoundError",
     "evalue": "[Errno 2] No such file or directory: 'nobody.csv'",
     "output_type": "error",
     "traceback": [
      "\u001b[1;31m---------------------------------------------------------------------------\u001b[0m",
      "\u001b[1;31mFileNotFoundError\u001b[0m                         Traceback (most recent call last)",
      "\u001b[1;32m<ipython-input-2-f2e8c7d0ac60>\u001b[0m in \u001b[0;36m<module>\u001b[1;34m\u001b[0m\n\u001b[1;32m----> 1\u001b[1;33m \u001b[1;32mwith\u001b[0m \u001b[0mopen\u001b[0m\u001b[1;33m(\u001b[0m\u001b[1;34m\"nobody.csv\"\u001b[0m\u001b[1;33m)\u001b[0m \u001b[1;32mas\u001b[0m \u001b[0mf\u001b[0m\u001b[1;33m:\u001b[0m\u001b[1;33m\u001b[0m\u001b[1;33m\u001b[0m\u001b[0m\n\u001b[0m\u001b[0;32m      2\u001b[0m     \u001b[1;32mpass\u001b[0m\u001b[1;33m\u001b[0m\u001b[1;33m\u001b[0m\u001b[0m\n",
      "\u001b[1;31mFileNotFoundError\u001b[0m: [Errno 2] No such file or directory: 'nobody.csv'"
     ]
    }
   ],
   "source": [
    "with open(\"nobody.csv\") as f:\n",
    "    pass"
   ]
  },
  {
   "cell_type": "markdown",
   "metadata": {},
   "source": [
    "3、**值错误——ValueError**"
   ]
  },
  {
   "cell_type": "markdown",
   "metadata": {},
   "source": [
    "传入一个调用者不期望的值，即使这个值的类型是正确的"
   ]
  },
  {
   "cell_type": "code",
   "execution_count": 8,
   "metadata": {
    "scrolled": true
   },
   "outputs": [
    {
     "ename": "ValueError",
     "evalue": "invalid literal for int() with base 10: '1.3'",
     "output_type": "error",
     "traceback": [
      "\u001b[1;31m---------------------------------------------------------------------------\u001b[0m",
      "\u001b[1;31mValueError\u001b[0m                                Traceback (most recent call last)",
      "\u001b[1;32m<ipython-input-8-69942d9db3c0>\u001b[0m in \u001b[0;36m<module>\u001b[1;34m\u001b[0m\n\u001b[0;32m      1\u001b[0m \u001b[0ms\u001b[0m \u001b[1;33m=\u001b[0m \u001b[1;34m\"1.3\"\u001b[0m\u001b[1;33m\u001b[0m\u001b[1;33m\u001b[0m\u001b[0m\n\u001b[1;32m----> 2\u001b[1;33m \u001b[0mn\u001b[0m \u001b[1;33m=\u001b[0m \u001b[0mint\u001b[0m\u001b[1;33m(\u001b[0m\u001b[0ms\u001b[0m\u001b[1;33m)\u001b[0m\u001b[1;33m\u001b[0m\u001b[1;33m\u001b[0m\u001b[0m\n\u001b[0m",
      "\u001b[1;31mValueError\u001b[0m: invalid literal for int() with base 10: '1.3'"
     ]
    }
   ],
   "source": [
    "s = \"1.3\"\n",
    "n = int(s)"
   ]
  },
  {
   "cell_type": "markdown",
   "metadata": {},
   "source": [
    "4、**索引错误——IndexError**"
   ]
  },
  {
   "cell_type": "markdown",
   "metadata": {},
   "source": [
    "下标超出序列边界"
   ]
  },
  {
   "cell_type": "code",
   "execution_count": 9,
   "metadata": {
    "scrolled": false
   },
   "outputs": [
    {
     "ename": "IndexError",
     "evalue": "list index out of range",
     "output_type": "error",
     "traceback": [
      "\u001b[1;31m---------------------------------------------------------------------------\u001b[0m",
      "\u001b[1;31mIndexError\u001b[0m                                Traceback (most recent call last)",
      "\u001b[1;32m<ipython-input-9-acf459124b52>\u001b[0m in \u001b[0;36m<module>\u001b[1;34m\u001b[0m\n\u001b[0;32m      1\u001b[0m \u001b[0mls\u001b[0m \u001b[1;33m=\u001b[0m \u001b[1;33m[\u001b[0m\u001b[1;36m1\u001b[0m\u001b[1;33m,\u001b[0m \u001b[1;36m2\u001b[0m\u001b[1;33m,\u001b[0m \u001b[1;36m3\u001b[0m\u001b[1;33m]\u001b[0m\u001b[1;33m\u001b[0m\u001b[1;33m\u001b[0m\u001b[0m\n\u001b[1;32m----> 2\u001b[1;33m \u001b[0mls\u001b[0m\u001b[1;33m[\u001b[0m\u001b[1;36m5\u001b[0m\u001b[1;33m]\u001b[0m\u001b[1;33m\u001b[0m\u001b[1;33m\u001b[0m\u001b[0m\n\u001b[0m",
      "\u001b[1;31mIndexError\u001b[0m: list index out of range"
     ]
    }
   ],
   "source": [
    "ls = [1, 2, 3]\n",
    "ls[5]"
   ]
  },
  {
   "cell_type": "markdown",
   "metadata": {},
   "source": [
    "5、**类型错误——TypeError**"
   ]
  },
  {
   "cell_type": "markdown",
   "metadata": {},
   "source": [
    "传入对象类型与要求不符"
   ]
  },
  {
   "cell_type": "code",
   "execution_count": 10,
   "metadata": {},
   "outputs": [
    {
     "ename": "TypeError",
     "evalue": "unsupported operand type(s) for +: 'int' and 'str'",
     "output_type": "error",
     "traceback": [
      "\u001b[1;31m---------------------------------------------------------------------------\u001b[0m",
      "\u001b[1;31mTypeError\u001b[0m                                 Traceback (most recent call last)",
      "\u001b[1;32m<ipython-input-10-ee505dc42f75>\u001b[0m in \u001b[0;36m<module>\u001b[1;34m\u001b[0m\n\u001b[1;32m----> 1\u001b[1;33m \u001b[1;36m1\u001b[0m \u001b[1;33m+\u001b[0m \u001b[1;34m\"3\"\u001b[0m\u001b[1;33m\u001b[0m\u001b[1;33m\u001b[0m\u001b[0m\n\u001b[0m",
      "\u001b[1;31mTypeError\u001b[0m: unsupported operand type(s) for +: 'int' and 'str'"
     ]
    }
   ],
   "source": [
    "1 + \"3\""
   ]
  },
  {
   "cell_type": "markdown",
   "metadata": {},
   "source": [
    "6、**其他常见的异常类型**"
   ]
  },
  {
   "cell_type": "markdown",
   "metadata": {},
   "source": [
    "NameError 使用一个未被定义的变量  \n",
    "KeyError 试图访问字典里不存在的键  \n",
    "。。。"
   ]
  },
  {
   "cell_type": "code",
   "execution_count": 11,
   "metadata": {},
   "outputs": [
    {
     "ename": "NameError",
     "evalue": "name 'a' is not defined",
     "output_type": "error",
     "traceback": [
      "\u001b[1;31m---------------------------------------------------------------------------\u001b[0m",
      "\u001b[1;31mNameError\u001b[0m                                 Traceback (most recent call last)",
      "\u001b[1;32m<ipython-input-11-bca0e2660b9f>\u001b[0m in \u001b[0;36m<module>\u001b[1;34m\u001b[0m\n\u001b[1;32m----> 1\u001b[1;33m \u001b[0mprint\u001b[0m\u001b[1;33m(\u001b[0m\u001b[0ma\u001b[0m\u001b[1;33m)\u001b[0m\u001b[1;33m\u001b[0m\u001b[1;33m\u001b[0m\u001b[0m\n\u001b[0m",
      "\u001b[1;31mNameError\u001b[0m: name 'a' is not defined"
     ]
    }
   ],
   "source": [
    "print(a)"
   ]
  },
  {
   "cell_type": "code",
   "execution_count": 12,
   "metadata": {},
   "outputs": [
    {
     "ename": "KeyError",
     "evalue": "'1'",
     "output_type": "error",
     "traceback": [
      "\u001b[1;31m---------------------------------------------------------------------------\u001b[0m",
      "\u001b[1;31mKeyError\u001b[0m                                  Traceback (most recent call last)",
      "\u001b[1;32m<ipython-input-12-e629d551aca0>\u001b[0m in \u001b[0;36m<module>\u001b[1;34m\u001b[0m\n\u001b[0;32m      1\u001b[0m \u001b[0md\u001b[0m \u001b[1;33m=\u001b[0m \u001b[1;33m{\u001b[0m\u001b[1;33m}\u001b[0m\u001b[1;33m\u001b[0m\u001b[1;33m\u001b[0m\u001b[0m\n\u001b[1;32m----> 2\u001b[1;33m \u001b[0md\u001b[0m\u001b[1;33m[\u001b[0m\u001b[1;34m\"1\"\u001b[0m\u001b[1;33m]\u001b[0m\u001b[1;33m\u001b[0m\u001b[1;33m\u001b[0m\u001b[0m\n\u001b[0m",
      "\u001b[1;31mKeyError\u001b[0m: '1'"
     ]
    }
   ],
   "source": [
    "d = {}\n",
    "d[\"1\"]"
   ]
  },
  {
   "cell_type": "markdown",
   "metadata": {},
   "source": [
    "**当异常发生的时候，如果不预先设定处理方法，程序就会中断**"
   ]
  },
  {
   "cell_type": "markdown",
   "metadata": {},
   "source": [
    "### 8.2.2 异常的处理"
   ]
  },
  {
   "cell_type": "markdown",
   "metadata": {},
   "source": [
    "**提高程序的稳定性和可靠性**"
   ]
  },
  {
   "cell_type": "markdown",
   "metadata": {},
   "source": [
    "1、**try_except**"
   ]
  },
  {
   "cell_type": "markdown",
   "metadata": {},
   "source": [
    "* 如果try内代码块顺利执行，except不被触发\n",
    "* 如果try内代码块发生错误，触发except,执行except内代码块"
   ]
  },
  {
   "cell_type": "markdown",
   "metadata": {},
   "source": [
    "* 单分支"
   ]
  },
  {
   "cell_type": "code",
   "execution_count": 13,
   "metadata": {},
   "outputs": [
    {
     "name": "stdout",
     "output_type": "stream",
     "text": [
      "0不可以被除！\n"
     ]
    }
   ],
   "source": [
    "x = 10\n",
    "y = 0\n",
    "try:\n",
    "    z = x/y\n",
    "except ZeroDivisionError:                  # 一般来说会预判到出现什么错误\n",
    "    # z = x/(y+1e-7)\n",
    "    # print(z)\n",
    "    print(\"0不可以被除！\")    "
   ]
  },
  {
   "cell_type": "code",
   "execution_count": 14,
   "metadata": {},
   "outputs": [
    {
     "ename": "ZeroDivisionError",
     "evalue": "division by zero",
     "output_type": "error",
     "traceback": [
      "\u001b[1;31m---------------------------------------------------------------------------\u001b[0m",
      "\u001b[1;31mZeroDivisionError\u001b[0m                         Traceback (most recent call last)",
      "\u001b[1;32m<ipython-input-14-aea58863ad72>\u001b[0m in \u001b[0;36m<module>\u001b[1;34m\u001b[0m\n\u001b[0;32m      2\u001b[0m \u001b[0my\u001b[0m \u001b[1;33m=\u001b[0m \u001b[1;36m0\u001b[0m\u001b[1;33m\u001b[0m\u001b[1;33m\u001b[0m\u001b[0m\n\u001b[0;32m      3\u001b[0m \u001b[1;32mtry\u001b[0m\u001b[1;33m:\u001b[0m\u001b[1;33m\u001b[0m\u001b[1;33m\u001b[0m\u001b[0m\n\u001b[1;32m----> 4\u001b[1;33m     \u001b[0mz\u001b[0m \u001b[1;33m=\u001b[0m \u001b[0mx\u001b[0m\u001b[1;33m/\u001b[0m\u001b[0my\u001b[0m\u001b[1;33m\u001b[0m\u001b[1;33m\u001b[0m\u001b[0m\n\u001b[0m\u001b[0;32m      5\u001b[0m \u001b[1;32mexcept\u001b[0m \u001b[0mNameError\u001b[0m\u001b[1;33m:\u001b[0m                  \u001b[1;31m# 一般来说会预判到出现什么错误\u001b[0m\u001b[1;33m\u001b[0m\u001b[1;33m\u001b[0m\u001b[0m\n\u001b[0;32m      6\u001b[0m     \u001b[1;31m# z = x/(y+1e-7)\u001b[0m\u001b[1;33m\u001b[0m\u001b[1;33m\u001b[0m\u001b[1;33m\u001b[0m\u001b[0m\n",
      "\u001b[1;31mZeroDivisionError\u001b[0m: division by zero"
     ]
    }
   ],
   "source": [
    "x = 10\n",
    "y = 0\n",
    "try:\n",
    "    z = x/y\n",
    "except NameError:                  # 一般来说会预判到出现什么错误\n",
    "    # z = x/(y+1e-7)\n",
    "    # print(z)\n",
    "    print(\"0不可以被除！\")   "
   ]
  },
  {
   "cell_type": "markdown",
   "metadata": {},
   "source": [
    "* 多分支"
   ]
  },
  {
   "cell_type": "code",
   "execution_count": 20,
   "metadata": {},
   "outputs": [
    {
     "name": "stdout",
     "output_type": "stream",
     "text": [
      "变量名不存在\n"
     ]
    }
   ],
   "source": [
    "ls = []\n",
    "d = {\"name\": \"大杰仔\"}\n",
    "try:\n",
    "    y = m\n",
    "    # ls[3]\n",
    "    # d[\"age\"]\n",
    "except NameError:\n",
    "    print(\"变量名不存在\")\n",
    "except IndexError:\n",
    "    print(\"索引超出界限\")\n",
    "except KeyError:\n",
    "    print(\"键不存在\")"
   ]
  },
  {
   "cell_type": "markdown",
   "metadata": {},
   "source": [
    "* 万能异常 Exception （所有错误的老祖宗）"
   ]
  },
  {
   "cell_type": "code",
   "execution_count": 22,
   "metadata": {},
   "outputs": [
    {
     "name": "stdout",
     "output_type": "stream",
     "text": [
      "出错啦\n"
     ]
    }
   ],
   "source": [
    "ls = []\n",
    "d = {\"name\": \"大杰仔\"}\n",
    "try:\n",
    "    # y = m\n",
    "    ls[3]\n",
    "    # d[\"age\"]\n",
    "except Exception:\n",
    "    print(\"出错啦\")"
   ]
  },
  {
   "cell_type": "markdown",
   "metadata": {},
   "source": [
    "* 捕获异常的值 as"
   ]
  },
  {
   "cell_type": "code",
   "execution_count": 24,
   "metadata": {},
   "outputs": [
    {
     "name": "stdout",
     "output_type": "stream",
     "text": [
      "name 'm' is not defined\n"
     ]
    }
   ],
   "source": [
    "ls = []\n",
    "d = {\"name\": \"大杰仔\"}\n",
    "# y = x\n",
    "try:\n",
    "    y = m\n",
    "    # ls[3]\n",
    "    # d[\"age\"]\n",
    "except Exception as e:    # 虽不能获得错误具体类型，但可以获得错误的值\n",
    "    print(e)"
   ]
  },
  {
   "cell_type": "markdown",
   "metadata": {},
   "source": [
    "2、**try_except_else**"
   ]
  },
  {
   "cell_type": "markdown",
   "metadata": {},
   "source": [
    "* 如果try 模块执行，则else模块也执行  "
   ]
  },
  {
   "cell_type": "markdown",
   "metadata": {},
   "source": [
    "可以将else 看做try成功的额外奖赏"
   ]
  },
  {
   "cell_type": "code",
   "execution_count": 25,
   "metadata": {},
   "outputs": [
    {
     "name": "stdout",
     "output_type": "stream",
     "text": [
      "毛主席的名作《浪淘沙_北戴河》共由65个字组成。\n"
     ]
    }
   ],
   "source": [
    "try:\n",
    "    with open(\"浪淘沙_北戴河.txt\") as f:\n",
    "        text = f.read()\n",
    "except FileNotFoundError:\n",
    "    print(\"找不到该文件，ta是不是用了美颜？\")\n",
    "else:\n",
    "    for s in [\"\\n\", \"，\", \"。\", \"？\"]:         # 去掉换行符和标点符号\n",
    "        text = text.replace(s, \"\")\n",
    "    print(\"毛主席的名作《浪淘沙_北戴河》共由{}个字组成。\".format(len(text)))"
   ]
  },
  {
   "cell_type": "markdown",
   "metadata": {},
   "source": [
    "3、**try_except_finally**"
   ]
  },
  {
   "cell_type": "markdown",
   "metadata": {},
   "source": [
    "* 不论try模块是否执行，finally最后都执行"
   ]
  },
  {
   "cell_type": "code",
   "execution_count": 26,
   "metadata": {},
   "outputs": [
    {
     "name": "stdout",
     "output_type": "stream",
     "text": [
      "name 'm' is not defined\n",
      "不论触不触发异常，都将执行\n"
     ]
    }
   ],
   "source": [
    "ls = []\n",
    "d = {\"name\": \"大杰仔\"}\n",
    "# y = x\n",
    "try:\n",
    "    y = m\n",
    "    # ls[3]\n",
    "    # d[\"age\"]\n",
    "except Exception as e:    # 虽不能获得错误具体类型，但可以获得错误的值\n",
    "    print(e)\n",
    "finally:\n",
    "    print(\"不论触不触发异常，都将执行\")"
   ]
  },
  {
   "cell_type": "markdown",
   "metadata": {},
   "source": [
    "## 8.3 模块简介"
   ]
  },
  {
   "cell_type": "markdown",
   "metadata": {},
   "source": [
    "已经被封装好  \n",
    "  \n",
    "无需自己再“造轮子”  \n",
    "  \n",
    "声明导入后，拿来即用"
   ]
  },
  {
   "cell_type": "markdown",
   "metadata": {},
   "source": [
    "### 8.3.1 广义模块分类"
   ]
  },
  {
   "cell_type": "markdown",
   "metadata": {},
   "source": [
    "**1、Python 内置**"
   ]
  },
  {
   "cell_type": "markdown",
   "metadata": {},
   "source": [
    "&emsp;时间库time\\ &ensp;随机库random\\ &ensp;容器数据类型collection\\ &ensp;迭代器函数itertools"
   ]
  },
  {
   "cell_type": "markdown",
   "metadata": {},
   "source": [
    "**2、第三方库**"
   ]
  },
  {
   "cell_type": "markdown",
   "metadata": {},
   "source": [
    "&emsp;数据分析numpy、pandas\\ &ensp;数据可视化matplotlib\\ &ensp;机器学习scikit-learn\\ &ensp;深度学习Tensorflow"
   ]
  },
  {
   "cell_type": "markdown",
   "metadata": {},
   "source": [
    "**3、自定义文件**"
   ]
  },
  {
   "cell_type": "markdown",
   "metadata": {},
   "source": [
    "* 单独py文件"
   ]
  },
  {
   "cell_type": "markdown",
   "metadata": {},
   "source": [
    "* 包——多个py文件"
   ]
  },
  {
   "cell_type": "code",
   "execution_count": 25,
   "metadata": {},
   "outputs": [],
   "source": [
    "# 文件夹内多个py文件，再加一个__init__.py文件（内容可为空）"
   ]
  },
  {
   "cell_type": "markdown",
   "metadata": {},
   "source": [
    "### 8.3.2 模块的导入"
   ]
  },
  {
   "cell_type": "markdown",
   "metadata": {},
   "source": [
    "**1、导入整个模块——import&emsp;模块名**"
   ]
  },
  {
   "cell_type": "markdown",
   "metadata": {},
   "source": [
    "* **调用方式：**模块名.函数名或类名"
   ]
  },
  {
   "cell_type": "code",
   "execution_count": 27,
   "metadata": {
    "scrolled": true
   },
   "outputs": [
    {
     "name": "stdout",
     "output_type": "stream",
     "text": [
      "程序运行用时：3.00秒\n"
     ]
    }
   ],
   "source": [
    "import time\n",
    "\n",
    "start = time.time()      # 调用time模块中的time()\n",
    "time.sleep(3)            # 调用time模块中的sleep()  休息3秒钟\n",
    "end = time.time()       \n",
    "print(\"程序运行用时：{:.2f}秒\".format(end-start))"
   ]
  },
  {
   "cell_type": "code",
   "execution_count": 30,
   "metadata": {},
   "outputs": [
    {
     "name": "stdout",
     "output_type": "stream",
     "text": [
      "导入fun1成功\n"
     ]
    }
   ],
   "source": [
    "import fun1\n",
    "\n",
    "fun1.f1()"
   ]
  },
  {
   "cell_type": "markdown",
   "metadata": {},
   "source": [
    "**2、从模块中导入类或函数——from 模块 import 类名或函数名**"
   ]
  },
  {
   "cell_type": "markdown",
   "metadata": {},
   "source": [
    "* **调用方式：**函数名或类名"
   ]
  },
  {
   "cell_type": "code",
   "execution_count": 31,
   "metadata": {
    "scrolled": true
   },
   "outputs": [
    {
     "name": "stdout",
     "output_type": "stream",
     "text": [
      "[('A', '1'), ('A', '2'), ('A', '3'), ('B', '1'), ('B', '2'), ('B', '3')]\n"
     ]
    }
   ],
   "source": [
    "from itertools import product   \n",
    "\n",
    "ls = list(product(\"AB\", \"123\"))\n",
    "print(ls)"
   ]
  },
  {
   "cell_type": "code",
   "execution_count": 32,
   "metadata": {},
   "outputs": [
    {
     "name": "stdout",
     "output_type": "stream",
     "text": [
      "导入fun1成功\n"
     ]
    }
   ],
   "source": [
    "from function.fun1 import f1         # 注意这种用法\n",
    "\n",
    "f1()"
   ]
  },
  {
   "cell_type": "markdown",
   "metadata": {},
   "source": [
    "**一次导入多个**"
   ]
  },
  {
   "cell_type": "code",
   "execution_count": 33,
   "metadata": {
    "scrolled": true
   },
   "outputs": [
    {
     "name": "stdout",
     "output_type": "stream",
     "text": [
      "导入fun1成功\n",
      "导入fun2成功\n"
     ]
    }
   ],
   "source": [
    "from function import fun1, fun2\n",
    "\n",
    "fun1.f1()\n",
    "fun2.f2()"
   ]
  },
  {
   "cell_type": "markdown",
   "metadata": {},
   "source": [
    "**3、导入模块中所有的类和函数**——from 模块 import *"
   ]
  },
  {
   "cell_type": "markdown",
   "metadata": {},
   "source": [
    "* **调用方式：**函数名或类名"
   ]
  },
  {
   "cell_type": "code",
   "execution_count": 34,
   "metadata": {
    "scrolled": true
   },
   "outputs": [
    {
     "name": "stdout",
     "output_type": "stream",
     "text": [
      "36\n",
      "0.6582485822110181\n"
     ]
    }
   ],
   "source": [
    "from random import * \n",
    "\n",
    "print(randint(1,100))       # 产生一个[1,100]之间的随机整数\n",
    "print(random())             # 产生一个[0,1)之间的随机小数"
   ]
  },
  {
   "cell_type": "markdown",
   "metadata": {},
   "source": [
    "### 8.3.3 模块的查找路径"
   ]
  },
  {
   "cell_type": "markdown",
   "metadata": {},
   "source": [
    "**模块搜索查找顺序：**"
   ]
  },
  {
   "cell_type": "markdown",
   "metadata": {},
   "source": [
    "* 1、内存中已经加载的模块"
   ]
  },
  {
   "cell_type": "code",
   "execution_count": 35,
   "metadata": {},
   "outputs": [
    {
     "name": "stdout",
     "output_type": "stream",
     "text": [
      "导入fun1成功\n"
     ]
    }
   ],
   "source": [
    "import fun1\n",
    "\n",
    "fun1.f1()"
   ]
  },
  {
   "cell_type": "code",
   "execution_count": 36,
   "metadata": {},
   "outputs": [
    {
     "name": "stdout",
     "output_type": "stream",
     "text": [
      "导入fun1成功\n"
     ]
    }
   ],
   "source": [
    "# 删除硬盘上的fun1 文件\n",
    "import fun1\n",
    "\n",
    "fun1.f1()"
   ]
  },
  {
   "cell_type": "code",
   "execution_count": 37,
   "metadata": {},
   "outputs": [
    {
     "name": "stdout",
     "output_type": "stream",
     "text": [
      "导入fun1成功\n"
     ]
    }
   ],
   "source": [
    "# 修改硬盘上的fun1 文件\n",
    "import fun1\n",
    "\n",
    "fun1.f1()\n",
    "# 居然没变，说明是优先从内存中读取的"
   ]
  },
  {
   "cell_type": "markdown",
   "metadata": {},
   "source": [
    "* 2、内置模块"
   ]
  },
  {
   "cell_type": "code",
   "execution_count": 39,
   "metadata": {},
   "outputs": [
    {
     "name": "stdout",
     "output_type": "stream",
     "text": [
      "738\n",
      "True\n",
      "False\n",
      "sys : <module 'sys' (built-in)>\n",
      "builtins : <module 'builtins' (built-in)>\n",
      "_frozen_importlib : <module 'importlib._bootstrap' (frozen)>\n",
      "_imp : <module '_imp' (built-in)>\n",
      "_thread : <module '_thread' (built-in)>\n",
      "_warnings : <module '_warnings' (built-in)>\n",
      "_weakref : <module '_weakref' (built-in)>\n",
      "zipimport : <module 'zipimport' (built-in)>\n",
      "_frozen_importlib_external : <module 'importlib._bootstrap_external' (frozen)>\n",
      "_io : <module 'io' (built-in)>\n",
      "marshal : <module 'marshal' (built-in)>\n",
      "nt : <module 'nt' (built-in)>\n",
      "winreg : <module 'winreg' (built-in)>\n",
      "encodings : <module 'encodings' from 'C:\\\\Users\\\\ibm\\\\Anaconda3\\\\lib\\\\encodings\\\\__init__.py'>\n",
      "codecs : <module 'codecs' from 'C:\\\\Users\\\\ibm\\\\Anaconda3\\\\lib\\\\codecs.py'>\n",
      "_codecs : <module '_codecs' (built-in)>\n",
      "encodings.aliases : <module 'encodings.aliases' from 'C:\\\\Users\\\\ibm\\\\Anaconda3\\\\lib\\\\encodings\\\\aliases.py'>\n",
      "encodings.utf_8 : <module 'encodings.utf_8' from 'C:\\\\Users\\\\ibm\\\\Anaconda3\\\\lib\\\\encodings\\\\utf_8.py'>\n",
      "_signal : <module '_signal' (built-in)>\n",
      "__main__ : <module '__main__'>\n"
     ]
    }
   ],
   "source": [
    "# Python 启动时，解释器会默认加载一些 modules 存放在sys.modules中\n",
    "# sys.modules 变量包含一个由当前载入(完整且成功导入)到解释器的模块组成的字典, 模块名作为键, 它们的位置作为值\n",
    "import sys\n",
    "\n",
    "print(len(sys.modules))\n",
    "print(\"math\" in sys.modules)\n",
    "print(\"numpy\" in sys.modules)\n",
    "for k,v in list(sys.modules.items())[:20]:\n",
    "    print(k, \":\", v)"
   ]
  },
  {
   "cell_type": "markdown",
   "metadata": {},
   "source": [
    "* 3、sys.path路径中包含的模块"
   ]
  },
  {
   "cell_type": "code",
   "execution_count": 40,
   "metadata": {
    "scrolled": true
   },
   "outputs": [
    {
     "data": {
      "text/plain": [
       "['E:\\\\ipython',\n",
       " 'C:\\\\Users\\\\ibm\\\\Anaconda3\\\\python37.zip',\n",
       " 'C:\\\\Users\\\\ibm\\\\Anaconda3\\\\DLLs',\n",
       " 'C:\\\\Users\\\\ibm\\\\Anaconda3\\\\lib',\n",
       " 'C:\\\\Users\\\\ibm\\\\Anaconda3',\n",
       " '',\n",
       " 'C:\\\\Users\\\\ibm\\\\AppData\\\\Roaming\\\\Python\\\\Python37\\\\site-packages',\n",
       " 'C:\\\\Users\\\\ibm\\\\Anaconda3\\\\lib\\\\site-packages',\n",
       " 'C:\\\\Users\\\\ibm\\\\Anaconda3\\\\lib\\\\site-packages\\\\win32',\n",
       " 'C:\\\\Users\\\\ibm\\\\Anaconda3\\\\lib\\\\site-packages\\\\win32\\\\lib',\n",
       " 'C:\\\\Users\\\\ibm\\\\Anaconda3\\\\lib\\\\site-packages\\\\Pythonwin',\n",
       " 'C:\\\\Users\\\\ibm\\\\Anaconda3\\\\lib\\\\site-packages\\\\IPython\\\\extensions',\n",
       " 'C:\\\\Users\\\\ibm\\\\.ipython']"
      ]
     },
     "execution_count": 40,
     "metadata": {},
     "output_type": "execute_result"
    }
   ],
   "source": [
    "import sys\n",
    "\n",
    "sys.path"
   ]
  },
  {
   "cell_type": "markdown",
   "metadata": {},
   "source": [
    "* sys.path的第一个路径是当前执行文件所在的文件夹\n",
    "* 若需将不在该文件夹内的模块导入，需要将模块的路径添加到sys.path"
   ]
  },
  {
   "cell_type": "code",
   "execution_count": null,
   "metadata": {},
   "outputs": [],
   "source": [
    "# import fun3"
   ]
  },
  {
   "cell_type": "code",
   "execution_count": 42,
   "metadata": {},
   "outputs": [
    {
     "name": "stdout",
     "output_type": "stream",
     "text": [
      "导入fun3成功\n"
     ]
    }
   ],
   "source": [
    "import sys\n",
    "\n",
    "sys.path.append(\"C:\\\\Users\\\\ibm\\\\Desktop\")    # 注意是双斜杠\n",
    "\n",
    "import fun3\n",
    "\n",
    "fun3.f3()"
   ]
  }
 ],
 "metadata": {
  "kernelspec": {
   "display_name": "Python 3",
   "language": "python",
   "name": "python3"
  },
  "language_info": {
   "codemirror_mode": {
    "name": "ipython",
    "version": 3
   },
   "file_extension": ".py",
   "mimetype": "text/x-python",
   "name": "python",
   "nbconvert_exporter": "python",
   "pygments_lexer": "ipython3",
   "version": "3.7.3"
  }
 },
 "nbformat": 4,
 "nbformat_minor": 2
}
