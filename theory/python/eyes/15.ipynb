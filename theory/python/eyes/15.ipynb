{
 "cells": [
  {
   "cell_type": "markdown",
   "metadata": {},
   "source": [
    "# 第十五章 再谈编程"
   ]
  },
  {
   "cell_type": "markdown",
   "metadata": {},
   "source": [
    "## 15.1 Python之禅"
   ]
  },
  {
   "cell_type": "code",
   "execution_count": 1,
   "metadata": {
    "scrolled": true
   },
   "outputs": [
    {
     "name": "stdout",
     "output_type": "stream",
     "text": [
      "The Zen of Python, by Tim Peters\n",
      "\n",
      "Beautiful is better than ugly.\n",
      "Explicit is better than implicit.\n",
      "Simple is better than complex.\n",
      "Complex is better than complicated.\n",
      "Flat is better than nested.\n",
      "Sparse is better than dense.\n",
      "Readability counts.\n",
      "Special cases aren't special enough to break the rules.\n",
      "Although practicality beats purity.\n",
      "Errors should never pass silently.\n",
      "Unless explicitly silenced.\n",
      "In the face of ambiguity, refuse the temptation to guess.\n",
      "There should be one-- and preferably only one --obvious way to do it.\n",
      "Although that way may not be obvious at first unless you're Dutch.\n",
      "Now is better than never.\n",
      "Although never is often better than *right* now.\n",
      "If the implementation is hard to explain, it's a bad idea.\n",
      "If the implementation is easy to explain, it may be a good idea.\n",
      "Namespaces are one honking great idea -- let's do more of those!\n"
     ]
    }
   ],
   "source": [
    "import this"
   ]
  },
  {
   "cell_type": "markdown",
   "metadata": {},
   "source": [
    "* Beautiful is better than ugly"
   ]
  },
  {
   "cell_type": "markdown",
   "metadata": {},
   "source": [
    "整齐、易读胜过混乱、晦涩"
   ]
  },
  {
   "cell_type": "markdown",
   "metadata": {},
   "source": [
    "* Simple is better than complex"
   ]
  },
  {
   "cell_type": "markdown",
   "metadata": {},
   "source": [
    "简约胜过复杂"
   ]
  },
  {
   "cell_type": "markdown",
   "metadata": {},
   "source": [
    "* Complex is better than complicated"
   ]
  },
  {
   "cell_type": "markdown",
   "metadata": {},
   "source": [
    "复杂胜过晦涩"
   ]
  },
  {
   "cell_type": "markdown",
   "metadata": {},
   "source": [
    "* Flat is better than nested"
   ]
  },
  {
   "cell_type": "markdown",
   "metadata": {},
   "source": [
    "扁平胜过嵌套"
   ]
  },
  {
   "cell_type": "markdown",
   "metadata": {},
   "source": [
    "* Now is better than never.\n",
    "  \n",
    "* Although never is often better than *right* now."
   ]
  },
  {
   "cell_type": "markdown",
   "metadata": {},
   "source": [
    "理解一：先行动起来，编写行之有效的代码，不要企图一开始就编写完美无缺的代码"
   ]
  },
  {
   "cell_type": "markdown",
   "metadata": {},
   "source": [
    "理解二：做比不做要好，但是盲目的不加思考的去做还不如不做"
   ]
  },
  {
   "cell_type": "markdown",
   "metadata": {},
   "source": [
    "* If the implementation is hard to explain, it's a bad idea.\n",
    "* If the implementation is easy to explain, it may be a good idea."
   ]
  },
  {
   "cell_type": "markdown",
   "metadata": {},
   "source": [
    "如果方案很难解释，很可能不是有一个好的方案，反之亦然"
   ]
  },
  {
   "cell_type": "markdown",
   "metadata": {},
   "source": [
    "【个人感悟】"
   ]
  },
  {
   "cell_type": "markdown",
   "metadata": {},
   "source": [
    "1、首先要行动起来，编写行之有效的代码；\n",
    "  \n",
    "2、如果都能解决问题，选择更加简单的方案；\n",
    "  \n",
    "3、整齐、易读、可维护性、可扩展性好；\n",
    "  \n",
    "4、强壮、健壮、鲁棒性好；\n",
    "  \n",
    "5、响应速度快，占用空间少。\n",
    "\n",
    "**有些时候，鱼和熊掌不可兼得，根据实际情况进行相应的取舍**"
   ]
  },
  {
   "cell_type": "markdown",
   "metadata": {},
   "source": [
    "## 15.2  时间复杂度分析"
   ]
  },
  {
   "cell_type": "markdown",
   "metadata": {},
   "source": [
    "**【1】代数分析**"
   ]
  },
  {
   "cell_type": "markdown",
   "metadata": {},
   "source": [
    "**求最大值和排序**"
   ]
  },
  {
   "cell_type": "code",
   "execution_count": 3,
   "metadata": {},
   "outputs": [
    {
     "data": {
      "text/plain": [
       "array([13, 14, 33, 79, 18, 26, 17, 65, 87, 63])"
      ]
     },
     "execution_count": 3,
     "metadata": {},
     "output_type": "execute_result"
    }
   ],
   "source": [
    "import numpy as np\n",
    "x = np.random.randint(100, size=10)\n",
    "x"
   ]
  },
  {
   "cell_type": "markdown",
   "metadata": {},
   "source": [
    "* 寻找最大值的时间复杂度为O(n)"
   ]
  },
  {
   "cell_type": "markdown",
   "metadata": {},
   "source": [
    "* 选择排序时间复杂度O(n^2)"
   ]
  },
  {
   "cell_type": "markdown",
   "metadata": {},
   "source": [
    "**代数分析**"
   ]
  },
  {
   "cell_type": "code",
   "execution_count": 5,
   "metadata": {},
   "outputs": [],
   "source": [
    "def one(x):\n",
    "    \"\"\"常数函数\"\"\"\n",
    "    return np.ones(len(x))\n",
    "\n",
    "def log(x):\n",
    "    \"\"\"对数函数\"\"\"\n",
    "    return np.log(x)\n",
    "\n",
    "def equal(x):\n",
    "    \"\"\"线性函数\"\"\"\n",
    "    return x\n",
    "\n",
    "def n_logn(x):\n",
    "    \"\"\"nlogn函数\"\"\"\n",
    "    return x*np.log(x)\n",
    "\n",
    "def square(x):\n",
    "    \"\"\"平方函数\"\"\"\n",
    "    return x**2\n",
    "\n",
    "def exponent(x):\n",
    "    \"\"\"指数函数\"\"\"\n",
    "    return 2**x"
   ]
  },
  {
   "cell_type": "code",
   "execution_count": 6,
   "metadata": {
    "scrolled": true
   },
   "outputs": [
    {
     "data": {
      "text/plain": [
       "<matplotlib.legend.Legend at 0x22728098e80>"
      ]
     },
     "execution_count": 6,
     "metadata": {},
     "output_type": "execute_result"
    },
    {
     "data": {
      "image/png": "[encoded data removed]",
      "text/plain": [
       "<Figure size 864x432 with 1 Axes>"
      ]
     },
     "metadata": {},
     "output_type": "display_data"
    }
   ],
   "source": [
    "import matplotlib.pyplot as plt\n",
    "plt.style.use(\"seaborn-whitegrid\")\n",
    "\n",
    "t = np.linspace(1, 20, 100)\n",
    "methods = [one, log, equal, n_logn, square, exponent]\n",
    "method_labels = [\"$y = 1$\", \"$y = log(x)$\", \"$y = x$\", \"$y = xlog(x)$\", \"$y = x^2$\", \"$y = 2^x$\"]\n",
    "plt.figure(figsize=(12, 6))\n",
    "for method, method_label in zip(methods, method_labels):\n",
    "    plt.plot(t, method(t), label=method_label, lw=3)\n",
    "plt.xlim(1, 20)\n",
    "plt.ylim(0, 40)\n",
    "plt.legend()"
   ]
  },
  {
   "cell_type": "markdown",
   "metadata": {},
   "source": [
    "**我们的最爱：常数函数和对数函数**\n",
    "  \n",
    "**勉强接受：线性函数和nlogn函数**\n",
    "  \n",
    "**难以承受：平方函数和指数函数**"
   ]
  },
  {
   "cell_type": "markdown",
   "metadata": {},
   "source": [
    "**【2】三集不相交问题**"
   ]
  },
  {
   "cell_type": "markdown",
   "metadata": {},
   "source": [
    "问题描述：\n",
    "假设有A、B、C三个序列，任一序列内部没有重复元素，欲知晓三个序列交集是否为空"
   ]
  },
  {
   "cell_type": "code",
   "execution_count": 18,
   "metadata": {},
   "outputs": [],
   "source": [
    "import random\n",
    "def creat_sequence(n):\n",
    "    A = random.sample(range(1, 1000), k=n)\n",
    "    B = random.sample(range(1000, 2000), k=n)\n",
    "    C = random.sample(range(2000, 3000), k=n)\n",
    "    return A, B, C"
   ]
  },
  {
   "cell_type": "code",
   "execution_count": 20,
   "metadata": {},
   "outputs": [
    {
     "name": "stdout",
     "output_type": "stream",
     "text": [
      "36.7 ms ± 2.12 ms per loop (mean ± std. dev. of 7 runs, 10 loops each)\n"
     ]
    },
    {
     "data": {
      "text/plain": [
       "True"
      ]
     },
     "execution_count": 20,
     "metadata": {},
     "output_type": "execute_result"
    }
   ],
   "source": [
    "A, B, C = creat_sequence(100)\n",
    "def no_intersection_1(A, B, C):\n",
    "    for a in A:\n",
    "        for b in B:\n",
    "            for c in C:\n",
    "                if a == b == c:\n",
    "                    return False\n",
    "    return True\n",
    "\n",
    "%timeit no_intersection_1(A, B, C)\n",
    "no_intersection_1(A, B, C)"
   ]
  },
  {
   "cell_type": "code",
   "execution_count": 21,
   "metadata": {},
   "outputs": [
    {
     "name": "stdout",
     "output_type": "stream",
     "text": [
      "301 µs ± 37.9 µs per loop (mean ± std. dev. of 7 runs, 1000 loops each)\n"
     ]
    }
   ],
   "source": [
    "def no_intersection_2(A, B, C):\n",
    "    for a in A:\n",
    "        for b in B:\n",
    "            if a == b:\n",
    "                for c in C:\n",
    "                    if a == c:\n",
    "                        return False\n",
    "    return True\n",
    "\n",
    "%timeit no_intersection_2(A, B, C)"
   ]
  },
  {
   "cell_type": "code",
   "execution_count": 22,
   "metadata": {
    "scrolled": true
   },
   "outputs": [
    {
     "name": "stdout",
     "output_type": "stream",
     "text": [
      "方法                     n=10           n=20           n=100          \n",
      "no_inte rsection_1       6ms            42ms           4001ms         \n",
      "no_intersection_2        0ms            1ms            24ms           \n"
     ]
    }
   ],
   "source": [
    "import time\n",
    "\n",
    "res_n_3 = []\n",
    "res_n_2 = []\n",
    "\n",
    "for n in [10, 20, 100]:\n",
    "    A, B, C = creat_sequence(n)\n",
    "    start_1 = time.time()\n",
    "    for i in range(100):\n",
    "        no_intersection_1(A, B, C)\n",
    "    end_1 = time.time()\n",
    "    for i in range(100):\n",
    "        no_intersection_2(A, B, C)\n",
    "    end_2 = time.time()\n",
    "    res_n_3.append(str(round((end_1 - start_1)*1000))+\"ms\")\n",
    "    res_n_2.append(str(round((end_2 - end_1)*1000))+\"ms\")\n",
    "\n",
    "print(\"{0:<23}{1:<15}{2:<15}{3:<15}\".format(\"方法\", \"n=10\", \"n=20\", \"n=100\"))\n",
    "print(\"{0:<25}{1:<15}{2:<15}{3:<15}\".format(\"no_inte rsection_1\", *res_n_3))\n",
    "print(\"{0:<25}{1:<15}{2:<15}{3:<15}\".format(\"no_intersection_2\", *res_n_2))"
   ]
  },
  {
   "cell_type": "markdown",
   "metadata": {},
   "source": [
    "**【3】元素唯一性问题**"
   ]
  },
  {
   "cell_type": "markdown",
   "metadata": {},
   "source": [
    "问题描述：A 中的元素是否唯一"
   ]
  },
  {
   "cell_type": "code",
   "execution_count": 23,
   "metadata": {},
   "outputs": [],
   "source": [
    "def unique_1(A):\n",
    "    for i in range(len(A)):\n",
    "        for j in range(i+1, len(A)):\n",
    "            if A[i] == A[j]:\n",
    "                return False\n",
    "    return True"
   ]
  },
  {
   "cell_type": "code",
   "execution_count": 24,
   "metadata": {},
   "outputs": [],
   "source": [
    "def unique_2(A):\n",
    "    A_sort = sorted(A)\n",
    "    for i in range(len(A_sort)-1):\n",
    "            if A[i] == A[i+1]:\n",
    "                return False\n",
    "    return True"
   ]
  },
  {
   "cell_type": "code",
   "execution_count": 25,
   "metadata": {},
   "outputs": [
    {
     "name": "stdout",
     "output_type": "stream",
     "text": [
      "方法           n=100          n=1000         \n",
      "unique_1       49ms           4044ms         \n",
      "unique_2       1ms            21ms           \n"
     ]
    }
   ],
   "source": [
    "import random\n",
    "res_n_2 = []\n",
    "res_n_log_n = []\n",
    "\n",
    "for n in [100, 1000]:\n",
    "    A = list(range(n))\n",
    "    random.shuffle(A)\n",
    "    start_1 = time.time()\n",
    "    for i in range(100):\n",
    "        unique_1(A)\n",
    "    end_1 = time.time()\n",
    "    for i in range(100):\n",
    "        unique_2(A)\n",
    "    end_2 = time.time()\n",
    "    res_n_2.append(str(round((end_1 - start_1)*1000))+\"ms\")\n",
    "    res_n_log_n.append(str(round((end_2 - end_1)*1000))+\"ms\")\n",
    "\n",
    "print(\"{0:<13}{1:<15}{2:<15}\".format(\"方法\", \"n=100\", \"n=1000\"))\n",
    "print(\"{0:<15}{1:<15}{2:<15}\".format(\"unique_1\", *res_n_2))\n",
    "print(\"{0:<15}{1:<15}{2:<15}\".format(\"unique_2\", *res_n_log_n))"
   ]
  },
  {
   "cell_type": "markdown",
   "metadata": {},
   "source": [
    "**【4】第n个斐波那契数**"
   ]
  },
  {
   "cell_type": "markdown",
   "metadata": {},
   "source": [
    "a(n+2) = a(n+1) + a(n)"
   ]
  },
  {
   "cell_type": "code",
   "execution_count": 150,
   "metadata": {},
   "outputs": [],
   "source": [
    "def bad_fibonacci(n):\n",
    "    if n <= 1:\n",
    "        return n\n",
    "    else:\n",
    "        return  bad_fibonacci(n-2)+ bad_fibonacci(n-1)"
   ]
  },
  {
   "cell_type": "markdown",
   "metadata": {},
   "source": [
    "O(2^n)"
   ]
  },
  {
   "cell_type": "code",
   "execution_count": 134,
   "metadata": {},
   "outputs": [
    {
     "data": {
      "text/plain": [
       "3"
      ]
     },
     "execution_count": 134,
     "metadata": {},
     "output_type": "execute_result"
    }
   ],
   "source": [
    "def good_fibonacci(n):\n",
    "    i, a, b = 0, 0, 1\n",
    "    while i < n:\n",
    "        a, b = b, a+b\n",
    "        i += 1\n",
    "    return a"
   ]
  },
  {
   "cell_type": "markdown",
   "metadata": {},
   "source": [
    "O(n)"
   ]
  },
  {
   "cell_type": "code",
   "execution_count": 151,
   "metadata": {},
   "outputs": [
    {
     "name": "stdout",
     "output_type": "stream",
     "text": [
      "20.6 µs ± 1.15 µs per loop (mean ± std. dev. of 7 runs, 10000 loops each)\n"
     ]
    }
   ],
   "source": [
    "%timeit  bad_fibonacci(10)"
   ]
  },
  {
   "cell_type": "code",
   "execution_count": 154,
   "metadata": {},
   "outputs": [
    {
     "name": "stdout",
     "output_type": "stream",
     "text": [
      "875 ns ± 24.5 ns per loop (mean ± std. dev. of 7 runs, 1000000 loops each)\n"
     ]
    }
   ],
   "source": [
    "%timeit good_fibonacci(10)"
   ]
  },
  {
   "cell_type": "markdown",
   "metadata": {},
   "source": [
    "**【5】最大盛水容器（leetcode第11题）**"
   ]
  },
  {
   "cell_type": "markdown",
   "metadata": {},
   "source": [
    "**暴力求解——双循环**"
   ]
  },
  {
   "cell_type": "code",
   "execution_count": 27,
   "metadata": {},
   "outputs": [],
   "source": [
    "def max_area_double_cycle(height):\n",
    "    \"\"\"暴力穷举双循环\"\"\"\n",
    "    i_left, i_right, max_area = 0,0,0\n",
    "    for i in range(len(height)-1):\n",
    "        for j in range(i+1, len(height)):\n",
    "            area = (j-i) * min(height[j], height[i])\n",
    "            if area > max_area:\n",
    "                i_left, i_right, max_area = i, j, area\n",
    "    return  i_left, i_right, max_area"
   ]
  },
  {
   "cell_type": "code",
   "execution_count": 30,
   "metadata": {
    "scrolled": true
   },
   "outputs": [
    {
     "name": "stdout",
     "output_type": "stream",
     "text": [
      "[10 11 41 26  2 44 26 43 36 30]\n"
     ]
    },
    {
     "data": {
      "text/plain": [
       "(2, 8, 216)"
      ]
     },
     "execution_count": 30,
     "metadata": {},
     "output_type": "execute_result"
    }
   ],
   "source": [
    "height = np.random.randint(1, 50, size=10)\n",
    "print(height)\n",
    "max_area_double_cycle(height)"
   ]
  },
  {
   "cell_type": "code",
   "execution_count": 44,
   "metadata": {},
   "outputs": [
    {
     "data": {
      "text/plain": [
       "([<matplotlib.axis.XTick at 0x22728e01b00>,\n",
       "  <matplotlib.axis.XTick at 0x227289ce518>,\n",
       "  <matplotlib.axis.XTick at 0x22728e01358>,\n",
       "  <matplotlib.axis.XTick at 0x22728f38c50>,\n",
       "  <matplotlib.axis.XTick at 0x22728f38b00>,\n",
       "  <matplotlib.axis.XTick at 0x22728f4f4a8>,\n",
       "  <matplotlib.axis.XTick at 0x22728f4f978>,\n",
       "  <matplotlib.axis.XTick at 0x22728f4fe48>,\n",
       "  <matplotlib.axis.XTick at 0x22728f60358>,\n",
       "  <matplotlib.axis.XTick at 0x22728f60828>],\n",
       " <a list of 10 Text xticklabel objects>)"
      ]
     },
     "execution_count": 44,
     "metadata": {},
     "output_type": "execute_result"
    },
    {
     "data": {
      "image/png": "[encoded data removed]",
      "text/plain": [
       "<Figure size 432x288 with 1 Axes>"
      ]
     },
     "metadata": {},
     "output_type": "display_data"
    }
   ],
   "source": [
    "import matplotlib.pyplot as plt\n",
    "\n",
    "plt.bar(range(10), height, width=0.5)\n",
    "plt.xticks(range(0, 10, 1))"
   ]
  },
  {
   "cell_type": "markdown",
   "metadata": {},
   "source": [
    "**双向指针**"
   ]
  },
  {
   "cell_type": "code",
   "execution_count": 46,
   "metadata": {},
   "outputs": [],
   "source": [
    "def max_area_bothway_points(height):\n",
    "    \"\"\"双向指针法\"\"\"\n",
    "    \n",
    "    i = 0\n",
    "    j = len(height)-1\n",
    "    i_left, j_right, max_area=0, 0, 0\n",
    "    while i < j:\n",
    "        area = (j-i) * min(height[i], height[j])\n",
    "        if area > max_area:\n",
    "            i_left, j_right, max_area = i, j, area\n",
    "        if height[i] == min(height[i], height[j]):\n",
    "            i += 1\n",
    "        else:\n",
    "            j -= 1\n",
    "    return i_left, j_right, max_area"
   ]
  },
  {
   "cell_type": "code",
   "execution_count": 47,
   "metadata": {},
   "outputs": [
    {
     "data": {
      "text/plain": [
       "(2, 8, 216)"
      ]
     },
     "execution_count": 47,
     "metadata": {},
     "output_type": "execute_result"
    }
   ],
   "source": [
    " max_area_bothway_points(height)"
   ]
  },
  {
   "cell_type": "code",
   "execution_count": 48,
   "metadata": {
    "scrolled": true
   },
   "outputs": [
    {
     "name": "stdout",
     "output_type": "stream",
     "text": [
      "方法             n=5            n=50           n=500          \n",
      "暴力循环         3ms            97ms           7842ms         \n",
      "双向指针         2ms            8ms            56ms           \n"
     ]
    }
   ],
   "source": [
    "double_cycle = []\n",
    "bothway_points = []\n",
    "\n",
    "for n in [5, 50, 500]:\n",
    "    height = np.random.randint(1, 50, size=n)\n",
    "    start_1 = time.time()\n",
    "    for i in range(100):\n",
    "        max_area_double_cycle(height)\n",
    "    end_1 = time.time()\n",
    "    for i in range(100):\n",
    "        max_area_bothway_points(height)\n",
    "    end_2 = time.time()\n",
    "    double_cycle.append(str(round((end_1 - start_1)*1000))+\"ms\")\n",
    "    bothway_points.append(str(round((end_2 - end_1)*1000))+\"ms\")\n",
    "\n",
    "print(\"{0:<15}{1:<15}{2:<15}{3:<15}\".format(\"方法\", \"n=5\", \"n=50\", \"n=500\"))\n",
    "print(\"{0:<13}{1:<15}{2:<15}{3:<15}\".format(\"暴力循环\", *double_cycle))\n",
    "print(\"{0:<13}{1:<15}{2:<15}{3:<15}\".format(\"双向指针\", *bothway_points))   "
   ]
  },
  {
   "cell_type": "markdown",
   "metadata": {},
   "source": [
    "【6】是不是时间复杂度低就一定好?"
   ]
  },
  {
   "cell_type": "markdown",
   "metadata": {},
   "source": [
    "100000n  VS   0.00001n^2"
   ]
  },
  {
   "cell_type": "markdown",
   "metadata": {},
   "source": [
    "【7】影响运算速度的因素"
   ]
  },
  {
   "cell_type": "markdown",
   "metadata": {},
   "source": [
    "* 硬件"
   ]
  },
  {
   "cell_type": "markdown",
   "metadata": {},
   "source": [
    "* 软件"
   ]
  },
  {
   "cell_type": "markdown",
   "metadata": {},
   "source": [
    "* 算法"
   ]
  }
 ],
 "metadata": {
  "kernelspec": {
   "display_name": "Python 3",
   "language": "python",
   "name": "python3"
  },
  "language_info": {
   "codemirror_mode": {
    "name": "ipython",
    "version": 3
   },
   "file_extension": ".py",
   "mimetype": "text/x-python",
   "name": "python",
   "nbconvert_exporter": "python",
   "pygments_lexer": "ipython3",
   "version": "3.7.3"
  }
 },
 "nbformat": 4,
 "nbformat_minor": 2
}
