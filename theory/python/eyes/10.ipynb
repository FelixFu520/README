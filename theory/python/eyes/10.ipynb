{
 "cells": [
  {
   "cell_type": "markdown",
   "metadata": {},
   "source": [
    "# 第十章  Python标准库"
   ]
  },
  {
   "cell_type": "markdown",
   "metadata": {},
   "source": [
    "Python自身提供了比较丰富的生态，拿来即用，可极大的提高开发效率"
   ]
  },
  {
   "cell_type": "markdown",
   "metadata": {},
   "source": [
    "## 10.1 time库"
   ]
  },
  {
   "cell_type": "markdown",
   "metadata": {},
   "source": [
    "**Python处理时间的标准库**"
   ]
  },
  {
   "cell_type": "markdown",
   "metadata": {},
   "source": [
    "**1、获取现在时间**"
   ]
  },
  {
   "cell_type": "markdown",
   "metadata": {},
   "source": [
    "（1）time.localtime()  本地时间\n",
    "\n",
    "（2）time.gmtime()   UTC世界统一时间\n",
    "\n",
    "北京时间比时间统一时间UTC早8个小时"
   ]
  },
  {
   "cell_type": "code",
   "execution_count": 4,
   "metadata": {
    "scrolled": false
   },
   "outputs": [
    {
     "name": "stdout",
     "output_type": "stream",
     "text": [
      "t_local time.struct_time(tm_year=2019, tm_mon=8, tm_mday=29, tm_hour=16, tm_min=43, tm_sec=37, tm_wday=3, tm_yday=241, tm_isdst=0)\n",
      "t_UTC time.struct_time(tm_year=2019, tm_mon=8, tm_mday=29, tm_hour=8, tm_min=43, tm_sec=37, tm_wday=3, tm_yday=241, tm_isdst=0)\n"
     ]
    }
   ],
   "source": [
    "import time\n",
    "\n",
    "t_local = time.localtime()\n",
    "t_UTC = time.gmtime()\n",
    "print(\"t_local\", t_local)           # 本地时间\n",
    "print(\"t_UTC\", t_UTC)               # UTC统一时间"
   ]
  },
  {
   "cell_type": "code",
   "execution_count": 5,
   "metadata": {
    "scrolled": true
   },
   "outputs": [
    {
     "data": {
      "text/plain": [
       "'Thu Aug 29 16:44:52 2019'"
      ]
     },
     "execution_count": 5,
     "metadata": {},
     "output_type": "execute_result"
    }
   ],
   "source": [
    "time.ctime()                      # 返回本地时间的字符串"
   ]
  },
  {
   "cell_type": "markdown",
   "metadata": {},
   "source": [
    "**2、时间戳与计时器**"
   ]
  },
  {
   "cell_type": "markdown",
   "metadata": {},
   "source": [
    "（1）time.time() &emsp;         返回自纪元以来的秒数，记录sleep\n",
    "  \n",
    "（2）time.perf_counter() &emsp;    随意选取一个时间点，记录现在时间到该时间点的间隔秒数，记录sleep\n",
    "  \n",
    "（3）time.process_time() &emsp;    随意选取一个时间点，记录现在时间到该时间点的间隔秒数，不记录sleep\n",
    "  \n",
    "perf_counter()精度较time()更高一些"
   ]
  },
  {
   "cell_type": "code",
   "execution_count": 6,
   "metadata": {},
   "outputs": [
    {
     "name": "stdout",
     "output_type": "stream",
     "text": [
      "1567068710.7269545\n",
      "6009.0814064\n",
      "2.25\n",
      "time方法：5.128秒\n",
      "perf_counter方法：5.128秒\n",
      "process_time方法：0.125秒\n"
     ]
    }
   ],
   "source": [
    "t_1_start = time.time()\n",
    "t_2_start = time.perf_counter()\n",
    "t_3_start = time.process_time()\n",
    "print(t_1_start)\n",
    "print(t_2_start)\n",
    "print(t_3_start)\n",
    "\n",
    "res = 0\n",
    "for i in range(1000000):\n",
    "    res += i\n",
    "    \n",
    "time.sleep(5)\n",
    "t_1_end = time.time()\n",
    "t_2_end = time.perf_counter()\n",
    "t_3_end = time.process_time()\n",
    "\n",
    "print(\"time方法：{:.3f}秒\".format(t_1_end-t_1_start))\n",
    "print(\"perf_counter方法：{:.3f}秒\".format(t_2_end-t_2_start))\n",
    "print(\"process_time方法：{:.3f}秒\".format(t_3_end-t_3_start))"
   ]
  },
  {
   "cell_type": "markdown",
   "metadata": {},
   "source": [
    "**3、格式化**"
   ]
  },
  {
   "cell_type": "markdown",
   "metadata": {},
   "source": [
    "（1）time.strftime 自定义格式化输出"
   ]
  },
  {
   "cell_type": "code",
   "execution_count": 7,
   "metadata": {},
   "outputs": [
    {
     "data": {
      "text/plain": [
       "'2019-08-29 Thursday 16:54:35'"
      ]
     },
     "execution_count": 7,
     "metadata": {},
     "output_type": "execute_result"
    }
   ],
   "source": [
    "lctime = time.localtime()\n",
    "time.strftime(\"%Y-%m-%d %A %H:%M:%S\", lctime)"
   ]
  },
  {
   "cell_type": "markdown",
   "metadata": {},
   "source": [
    "**4、睡觉觉**"
   ]
  },
  {
   "cell_type": "markdown",
   "metadata": {},
   "source": [
    "（1）time.sleep()"
   ]
  },
  {
   "cell_type": "markdown",
   "metadata": {},
   "source": [
    "## 10.2 random库"
   ]
  },
  {
   "cell_type": "markdown",
   "metadata": {},
   "source": [
    "**随机数在计算机应用中十分常见**\n",
    "  \n",
    "**Python通过random库提供各种伪随机数**\n",
    "  \n",
    "**基本可以用于除加密解密算法外的大多数工程应用**"
   ]
  },
  {
   "cell_type": "markdown",
   "metadata": {},
   "source": [
    "**1、随机种子——seed(a=None)**"
   ]
  },
  {
   "cell_type": "markdown",
   "metadata": {},
   "source": [
    "（1）相同种子会产生相同的随机数\n",
    "  \n",
    "（2）如果不设置随机种子，以系统当前时间为默认值"
   ]
  },
  {
   "cell_type": "code",
   "execution_count": 8,
   "metadata": {},
   "outputs": [
    {
     "name": "stdout",
     "output_type": "stream",
     "text": [
      "0.5714025946899135\n",
      "0.5714025946899135\n"
     ]
    }
   ],
   "source": [
    "from random import *\n",
    "\n",
    "seed(10)\n",
    "print(random())\n",
    "seed(10)\n",
    "print(random())"
   ]
  },
  {
   "cell_type": "code",
   "execution_count": 11,
   "metadata": {
    "scrolled": true
   },
   "outputs": [
    {
     "name": "stdout",
     "output_type": "stream",
     "text": [
      "0.20609823213950174\n"
     ]
    }
   ],
   "source": [
    "print(random())"
   ]
  },
  {
   "cell_type": "markdown",
   "metadata": {},
   "source": [
    "**2、产生随机整数**"
   ]
  },
  {
   "cell_type": "markdown",
   "metadata": {},
   "source": [
    "**（1）randint(a, b)——产生[a, b]之间的随机整数**"
   ]
  },
  {
   "cell_type": "code",
   "execution_count": 14,
   "metadata": {},
   "outputs": [
    {
     "data": {
      "text/plain": [
       "[3, 5, 6, 3, 8, 4, 8, 10, 7, 1]"
      ]
     },
     "execution_count": 14,
     "metadata": {},
     "output_type": "execute_result"
    }
   ],
   "source": [
    "numbers = [randint(1,10) for i in range(10)]\n",
    "numbers"
   ]
  },
  {
   "cell_type": "markdown",
   "metadata": {},
   "source": [
    "**（2）randrange(a)——产生[0, a)之间的随机整数**"
   ]
  },
  {
   "cell_type": "code",
   "execution_count": 17,
   "metadata": {},
   "outputs": [
    {
     "data": {
      "text/plain": [
       "[6, 3, 0, 0, 7, 4, 9, 1, 8, 1]"
      ]
     },
     "execution_count": 17,
     "metadata": {},
     "output_type": "execute_result"
    }
   ],
   "source": [
    "numbers = [randrange(10) for i in range(10)]\n",
    "numbers"
   ]
  },
  {
   "cell_type": "markdown",
   "metadata": {},
   "source": [
    "**（3）randrange(a, b, step)——产生[a, b)之间以setp为步长的随机整数**"
   ]
  },
  {
   "cell_type": "code",
   "execution_count": 18,
   "metadata": {},
   "outputs": [
    {
     "data": {
      "text/plain": [
       "[2, 6, 8, 4, 8, 2, 0, 0, 6, 2]"
      ]
     },
     "execution_count": 18,
     "metadata": {},
     "output_type": "execute_result"
    }
   ],
   "source": [
    "numbers = [randrange(0, 10, 2) for i in range(10)]\n",
    "numbers"
   ]
  },
  {
   "cell_type": "markdown",
   "metadata": {},
   "source": [
    "**3、产生随机浮点数**"
   ]
  },
  {
   "cell_type": "markdown",
   "metadata": {},
   "source": [
    "**（1）random()——产生[0.0, 1.0)之间的随机浮点数**"
   ]
  },
  {
   "cell_type": "code",
   "execution_count": 19,
   "metadata": {},
   "outputs": [
    {
     "data": {
      "text/plain": [
       "[0.9819392547566425,\n",
       " 0.19092611184488173,\n",
       " 0.3486810954900942,\n",
       " 0.9704866291141572,\n",
       " 0.4456072691491385,\n",
       " 0.6807895695768549,\n",
       " 0.14351321471670841,\n",
       " 0.5218569500629634,\n",
       " 0.8648825892767497,\n",
       " 0.26702706855337954]"
      ]
     },
     "execution_count": 19,
     "metadata": {},
     "output_type": "execute_result"
    }
   ],
   "source": [
    "numbers = [random() for i in range(10)]\n",
    "numbers"
   ]
  },
  {
   "cell_type": "markdown",
   "metadata": {},
   "source": [
    "**（2）uniform(a, b)——产生[a, b]之间的随机浮点数**"
   ]
  },
  {
   "cell_type": "code",
   "execution_count": 20,
   "metadata": {},
   "outputs": [
    {
     "data": {
      "text/plain": [
       "[2.523598043850906,\n",
       " 3.0245903649048116,\n",
       " 3.4202356766870463,\n",
       " 2.344031169179946,\n",
       " 2.3465252151503173,\n",
       " 3.181989084829388,\n",
       " 2.5592895031615703,\n",
       " 2.413131937436849,\n",
       " 2.8627907782614415,\n",
       " 2.16114212173462]"
      ]
     },
     "execution_count": 20,
     "metadata": {},
     "output_type": "execute_result"
    }
   ],
   "source": [
    "numbers = [uniform(2.1, 3.5) for i in range(10)]\n",
    "numbers"
   ]
  },
  {
   "cell_type": "markdown",
   "metadata": {},
   "source": [
    "**4、序列用函数**"
   ]
  },
  {
   "cell_type": "markdown",
   "metadata": {},
   "source": [
    "**（1）choice(seq)——从序列类型中随机返回一个元素**"
   ]
  },
  {
   "cell_type": "code",
   "execution_count": 27,
   "metadata": {},
   "outputs": [
    {
     "data": {
      "text/plain": [
       "'draw'"
      ]
     },
     "execution_count": 27,
     "metadata": {},
     "output_type": "execute_result"
    }
   ],
   "source": [
    "choice(['win', 'lose', 'draw'])"
   ]
  },
  {
   "cell_type": "code",
   "execution_count": 29,
   "metadata": {},
   "outputs": [
    {
     "data": {
      "text/plain": [
       "'h'"
      ]
     },
     "execution_count": 29,
     "metadata": {},
     "output_type": "execute_result"
    }
   ],
   "source": [
    "choice(\"python\")"
   ]
  },
  {
   "cell_type": "markdown",
   "metadata": {},
   "source": [
    "**（2）choices(seq,weights=None, k)——对序列类型进行k次重复采样，可设置权重**"
   ]
  },
  {
   "cell_type": "code",
   "execution_count": 30,
   "metadata": {},
   "outputs": [
    {
     "data": {
      "text/plain": [
       "['draw', 'lose', 'draw', 'draw', 'draw']"
      ]
     },
     "execution_count": 30,
     "metadata": {},
     "output_type": "execute_result"
    }
   ],
   "source": [
    "choices(['win', 'lose', 'draw'], k=5)"
   ]
  },
  {
   "cell_type": "code",
   "execution_count": 33,
   "metadata": {},
   "outputs": [
    {
     "data": {
      "text/plain": [
       "['lose', 'draw', 'lose', 'win', 'draw', 'lose', 'draw', 'win', 'win', 'lose']"
      ]
     },
     "execution_count": 33,
     "metadata": {},
     "output_type": "execute_result"
    }
   ],
   "source": [
    "choices(['win', 'lose', 'draw'], [4,4,2], k=10)"
   ]
  },
  {
   "cell_type": "markdown",
   "metadata": {},
   "source": [
    "**（3）shuffle(seq)——将序列类型中元素随机排列，返回打乱后的序列**"
   ]
  },
  {
   "cell_type": "code",
   "execution_count": 35,
   "metadata": {},
   "outputs": [
    {
     "data": {
      "text/plain": [
       "['four', 'one', 'three', 'two']"
      ]
     },
     "execution_count": 35,
     "metadata": {},
     "output_type": "execute_result"
    }
   ],
   "source": [
    "numbers = [\"one\", \"two\", \"three\", \"four\"]\n",
    "shuffle(numbers)\n",
    "numbers"
   ]
  },
  {
   "cell_type": "markdown",
   "metadata": {},
   "source": [
    "**（4）sample(pop, k)——从pop类型中随机选取k个元素，以列表类型返回**"
   ]
  },
  {
   "cell_type": "code",
   "execution_count": 40,
   "metadata": {},
   "outputs": [
    {
     "data": {
      "text/plain": [
       "[20, 30, 10]"
      ]
     },
     "execution_count": 40,
     "metadata": {},
     "output_type": "execute_result"
    }
   ],
   "source": [
    "sample([10, 20, 30, 40, 50], k=3)"
   ]
  },
  {
   "cell_type": "markdown",
   "metadata": {},
   "source": [
    "**5、概率分布——以高斯分布为例**"
   ]
  },
  {
   "cell_type": "markdown",
   "metadata": {},
   "source": [
    "**gauss(mean, std)——生产一个符合高斯分布的随机数**"
   ]
  },
  {
   "cell_type": "code",
   "execution_count": 42,
   "metadata": {},
   "outputs": [
    {
     "data": {
      "text/plain": [
       "0.6331522345532208"
      ]
     },
     "execution_count": 42,
     "metadata": {},
     "output_type": "execute_result"
    }
   ],
   "source": [
    "number = gauss(0, 1)\n",
    "number"
   ]
  },
  {
   "cell_type": "markdown",
   "metadata": {},
   "source": [
    "**多生成几个**"
   ]
  },
  {
   "cell_type": "code",
   "execution_count": 44,
   "metadata": {},
   "outputs": [
    {
     "data": {
      "image/png": "[encoded data removed]",
      "text/plain": [
       "<Figure size 432x288 with 1 Axes>"
      ]
     },
     "metadata": {
      "needs_background": "light"
     },
     "output_type": "display_data"
    }
   ],
   "source": [
    "import matplotlib.pyplot as plt\n",
    "\n",
    "res = [gauss(0, 1) for i in range(100000)]\n",
    "\n",
    "plt.hist(res, bins=1000)\n",
    "plt.show()"
   ]
  },
  {
   "cell_type": "markdown",
   "metadata": {},
   "source": [
    "【例1】用random库实现简单的微信红包分配"
   ]
  },
  {
   "cell_type": "code",
   "execution_count": 47,
   "metadata": {},
   "outputs": [
    {
     "name": "stdout",
     "output_type": "stream",
     "text": [
      "第1位红包金额： 1.85元\n",
      "第2位红包金额： 3.90元\n",
      "第3位红包金额： 0.41元\n",
      "第4位红包金额： 3.30元\n",
      "第5位红包金额： 0.54元\n"
     ]
    }
   ],
   "source": [
    "import random\n",
    "\n",
    "\n",
    "def red_packet(total, num):\n",
    "    for i in range(1, num):\n",
    "        per = random.uniform(0.01, total/(num-i+1)*2)          # 保证每个人获得红包的期望是total/num\n",
    "        total = total - per\n",
    "        print(\"第{}位红包金额： {:.2f}元\".format(i, per))\n",
    "    else:\n",
    "        print(\"第{}位红包金额： {:.2f}元\".format(num, total))\n",
    "            \n",
    "            \n",
    "red_packet(10, 5)"
   ]
  },
  {
   "cell_type": "code",
   "execution_count": 50,
   "metadata": {},
   "outputs": [
    {
     "name": "stdout",
     "output_type": "stream",
     "text": [
      "[[1.71 1.57 0.36 1.25 5.11]\n",
      " [1.96 0.85 1.46 3.29 2.44]\n",
      " [3.34 0.27 1.9  0.64 3.85]\n",
      " [1.99 1.08 3.86 1.69 1.38]\n",
      " [1.56 1.47 0.66 4.09 2.22]\n",
      " [0.57 0.44 1.87 5.81 1.31]\n",
      " [0.47 1.41 3.97 1.28 2.87]\n",
      " [2.65 1.82 1.22 2.02 2.29]\n",
      " [3.16 1.2  0.3  3.66 1.68]\n",
      " [2.43 0.16 0.11 0.79 6.51]]\n"
     ]
    },
    {
     "data": {
      "text/plain": [
       "array([1.9991849, 2.0055725, 2.0018144, 2.0022472, 1.991181 ])"
      ]
     },
     "execution_count": 50,
     "metadata": {},
     "output_type": "execute_result"
    }
   ],
   "source": [
    "import random\n",
    "import numpy as np\n",
    "\n",
    "\n",
    "def red_packet(total, num):\n",
    "    ls = []\n",
    "    for i in range(1, num):\n",
    "        per = round(random.uniform(0.01, total/(num-i+1)*2), 2)     # 保证每个人获得红包的期望是total/num\n",
    "        ls.append(per)\n",
    "        total = total - per\n",
    "    else:\n",
    "        ls.append(total)\n",
    "        \n",
    "    return ls\n",
    "            \n",
    "            \n",
    "# 重复发十万次红包，统计每个位置的平均值（约等于期望）\n",
    "res = []\n",
    "for i in range(100000):\n",
    "    ls = red_packet(10,5)\n",
    "    res.append(ls)\n",
    "\n",
    "res = np.array(res)\n",
    "print(res[:10])\n",
    "np.mean(res, axis=0)"
   ]
  },
  {
   "cell_type": "markdown",
   "metadata": {},
   "source": [
    "【例2】生产4位由数字和英文字母构成的验证码"
   ]
  },
  {
   "cell_type": "code",
   "execution_count": 65,
   "metadata": {},
   "outputs": [
    {
     "name": "stdout",
     "output_type": "stream",
     "text": [
      "0123456789\n",
      "abcdefghijklmnopqrstuvwxyzABCDEFGHIJKLMNOPQRSTUVWXYZ\n",
      "['n', 'Q', '4', '7']\n",
      "nQ47\n"
     ]
    }
   ],
   "source": [
    "import random\n",
    "import string\n",
    "\n",
    "print(string.digits)\n",
    "print(string.ascii_letters)\n",
    "\n",
    "s=string.digits + string.ascii_letters\n",
    "v=random.sample(s,4)\n",
    "print(v)\n",
    "print(''.join(v))"
   ]
  },
  {
   "cell_type": "markdown",
   "metadata": {},
   "source": [
    "## 10.3 collections库——容器数据类型"
   ]
  },
  {
   "cell_type": "code",
   "execution_count": 67,
   "metadata": {},
   "outputs": [],
   "source": [
    "import collections"
   ]
  },
  {
   "cell_type": "markdown",
   "metadata": {},
   "source": [
    "**1、namedtuple——具名元组**"
   ]
  },
  {
   "cell_type": "markdown",
   "metadata": {},
   "source": [
    "* 点的坐标，仅看数据，很难知道表达的是一个点的坐标"
   ]
  },
  {
   "cell_type": "code",
   "execution_count": null,
   "metadata": {},
   "outputs": [],
   "source": [
    "p = (1, 2)"
   ]
  },
  {
   "cell_type": "markdown",
   "metadata": {},
   "source": [
    "* 构建一个新的元组子类  \n",
    "  \n",
    "     定义方法如下：typename 是元组名字，field_names 是域名"
   ]
  },
  {
   "cell_type": "code",
   "execution_count": null,
   "metadata": {},
   "outputs": [],
   "source": [
    "collections.namedtuple(typename, field_names, *, rename=False, defaults=None, module=None)"
   ]
  },
  {
   "cell_type": "code",
   "execution_count": 74,
   "metadata": {
    "scrolled": true
   },
   "outputs": [
    {
     "data": {
      "text/plain": [
       "Point(x=1, y=2)"
      ]
     },
     "execution_count": 74,
     "metadata": {},
     "output_type": "execute_result"
    }
   ],
   "source": [
    "Point = collections.namedtuple(\"Point\", [\"x\", \"y\"])\n",
    "p = Point(1, y=2)\n",
    "p"
   ]
  },
  {
   "cell_type": "markdown",
   "metadata": {},
   "source": [
    "* 可以调用属性"
   ]
  },
  {
   "cell_type": "code",
   "execution_count": 70,
   "metadata": {},
   "outputs": [
    {
     "name": "stdout",
     "output_type": "stream",
     "text": [
      "1\n",
      "2\n"
     ]
    }
   ],
   "source": [
    "print(p.x)\n",
    "print(p.y)"
   ]
  },
  {
   "cell_type": "markdown",
   "metadata": {},
   "source": [
    "* 有元组的性质"
   ]
  },
  {
   "cell_type": "code",
   "execution_count": 71,
   "metadata": {
    "scrolled": true
   },
   "outputs": [
    {
     "name": "stdout",
     "output_type": "stream",
     "text": [
      "1\n",
      "2\n",
      "1\n",
      "2\n"
     ]
    }
   ],
   "source": [
    "print(p[0])\n",
    "print(p[1])\n",
    "x, y = p\n",
    "print(x)\n",
    "print(y)"
   ]
  },
  {
   "cell_type": "markdown",
   "metadata": {},
   "source": [
    "* 确实是元组的子类"
   ]
  },
  {
   "cell_type": "code",
   "execution_count": 76,
   "metadata": {
    "scrolled": true
   },
   "outputs": [
    {
     "name": "stdout",
     "output_type": "stream",
     "text": [
      "True\n"
     ]
    }
   ],
   "source": [
    "print(isinstance(p, tuple))"
   ]
  },
  {
   "cell_type": "markdown",
   "metadata": {},
   "source": [
    "【例】模拟扑克牌"
   ]
  },
  {
   "cell_type": "code",
   "execution_count": 77,
   "metadata": {},
   "outputs": [
    {
     "name": "stdout",
     "output_type": "stream",
     "text": [
      "ranks ['2', '3', '4', '5', '6', '7', '8', '9', '10', 'J', 'Q', 'K', 'A']\n",
      "suits ['spades', 'diamonds', 'clubs', 'hearts']\n"
     ]
    },
    {
     "data": {
      "text/plain": [
       "[Card(rank='2', suit='spades'),\n",
       " Card(rank='2', suit='diamonds'),\n",
       " Card(rank='2', suit='clubs'),\n",
       " Card(rank='2', suit='hearts'),\n",
       " Card(rank='3', suit='spades'),\n",
       " Card(rank='3', suit='diamonds'),\n",
       " Card(rank='3', suit='clubs'),\n",
       " Card(rank='3', suit='hearts'),\n",
       " Card(rank='4', suit='spades'),\n",
       " Card(rank='4', suit='diamonds'),\n",
       " Card(rank='4', suit='clubs'),\n",
       " Card(rank='4', suit='hearts'),\n",
       " Card(rank='5', suit='spades'),\n",
       " Card(rank='5', suit='diamonds'),\n",
       " Card(rank='5', suit='clubs'),\n",
       " Card(rank='5', suit='hearts'),\n",
       " Card(rank='6', suit='spades'),\n",
       " Card(rank='6', suit='diamonds'),\n",
       " Card(rank='6', suit='clubs'),\n",
       " Card(rank='6', suit='hearts'),\n",
       " Card(rank='7', suit='spades'),\n",
       " Card(rank='7', suit='diamonds'),\n",
       " Card(rank='7', suit='clubs'),\n",
       " Card(rank='7', suit='hearts'),\n",
       " Card(rank='8', suit='spades'),\n",
       " Card(rank='8', suit='diamonds'),\n",
       " Card(rank='8', suit='clubs'),\n",
       " Card(rank='8', suit='hearts'),\n",
       " Card(rank='9', suit='spades'),\n",
       " Card(rank='9', suit='diamonds'),\n",
       " Card(rank='9', suit='clubs'),\n",
       " Card(rank='9', suit='hearts'),\n",
       " Card(rank='10', suit='spades'),\n",
       " Card(rank='10', suit='diamonds'),\n",
       " Card(rank='10', suit='clubs'),\n",
       " Card(rank='10', suit='hearts'),\n",
       " Card(rank='J', suit='spades'),\n",
       " Card(rank='J', suit='diamonds'),\n",
       " Card(rank='J', suit='clubs'),\n",
       " Card(rank='J', suit='hearts'),\n",
       " Card(rank='Q', suit='spades'),\n",
       " Card(rank='Q', suit='diamonds'),\n",
       " Card(rank='Q', suit='clubs'),\n",
       " Card(rank='Q', suit='hearts'),\n",
       " Card(rank='K', suit='spades'),\n",
       " Card(rank='K', suit='diamonds'),\n",
       " Card(rank='K', suit='clubs'),\n",
       " Card(rank='K', suit='hearts'),\n",
       " Card(rank='A', suit='spades'),\n",
       " Card(rank='A', suit='diamonds'),\n",
       " Card(rank='A', suit='clubs'),\n",
       " Card(rank='A', suit='hearts')]"
      ]
     },
     "execution_count": 77,
     "metadata": {},
     "output_type": "execute_result"
    }
   ],
   "source": [
    "Card = collections.namedtuple(\"Card\", [\"rank\", \"suit\"])\n",
    "ranks = [str(n) for n in range(2, 11)] + list(\"JQKA\")    \n",
    "suits = \"spades diamonds clubs hearts\".split()\n",
    "print(\"ranks\", ranks)\n",
    "print(\"suits\", suits)\n",
    "cards = [Card(rank, suit) for rank in ranks\n",
    "                          for suit in suits]\n",
    "cards"
   ]
  },
  {
   "cell_type": "code",
   "execution_count": 28,
   "metadata": {},
   "outputs": [],
   "source": [
    "from random import *"
   ]
  },
  {
   "cell_type": "code",
   "execution_count": 78,
   "metadata": {
    "scrolled": true
   },
   "outputs": [
    {
     "data": {
      "text/plain": [
       "[Card(rank='J', suit='hearts'),\n",
       " Card(rank='A', suit='hearts'),\n",
       " Card(rank='3', suit='hearts'),\n",
       " Card(rank='8', suit='hearts'),\n",
       " Card(rank='K', suit='hearts'),\n",
       " Card(rank='7', suit='spades'),\n",
       " Card(rank='5', suit='hearts'),\n",
       " Card(rank='A', suit='spades'),\n",
       " Card(rank='10', suit='spades'),\n",
       " Card(rank='J', suit='diamonds'),\n",
       " Card(rank='K', suit='clubs'),\n",
       " Card(rank='4', suit='spades'),\n",
       " Card(rank='2', suit='diamonds'),\n",
       " Card(rank='Q', suit='spades'),\n",
       " Card(rank='A', suit='clubs'),\n",
       " Card(rank='A', suit='diamonds'),\n",
       " Card(rank='6', suit='hearts'),\n",
       " Card(rank='7', suit='diamonds'),\n",
       " Card(rank='5', suit='diamonds'),\n",
       " Card(rank='10', suit='clubs'),\n",
       " Card(rank='8', suit='clubs'),\n",
       " Card(rank='9', suit='clubs'),\n",
       " Card(rank='6', suit='clubs'),\n",
       " Card(rank='6', suit='diamonds'),\n",
       " Card(rank='5', suit='clubs'),\n",
       " Card(rank='3', suit='diamonds'),\n",
       " Card(rank='4', suit='hearts'),\n",
       " Card(rank='3', suit='clubs'),\n",
       " Card(rank='7', suit='hearts'),\n",
       " Card(rank='2', suit='spades'),\n",
       " Card(rank='J', suit='clubs'),\n",
       " Card(rank='9', suit='spades'),\n",
       " Card(rank='J', suit='spades'),\n",
       " Card(rank='10', suit='hearts'),\n",
       " Card(rank='2', suit='clubs'),\n",
       " Card(rank='8', suit='diamonds'),\n",
       " Card(rank='6', suit='spades'),\n",
       " Card(rank='10', suit='diamonds'),\n",
       " Card(rank='9', suit='hearts'),\n",
       " Card(rank='3', suit='spades'),\n",
       " Card(rank='8', suit='spades'),\n",
       " Card(rank='Q', suit='clubs'),\n",
       " Card(rank='Q', suit='hearts'),\n",
       " Card(rank='5', suit='spades'),\n",
       " Card(rank='7', suit='clubs'),\n",
       " Card(rank='4', suit='clubs'),\n",
       " Card(rank='2', suit='hearts'),\n",
       " Card(rank='K', suit='diamonds'),\n",
       " Card(rank='K', suit='spades'),\n",
       " Card(rank='Q', suit='diamonds'),\n",
       " Card(rank='4', suit='diamonds'),\n",
       " Card(rank='9', suit='diamonds')]"
      ]
     },
     "execution_count": 78,
     "metadata": {},
     "output_type": "execute_result"
    }
   ],
   "source": [
    "# 洗牌\n",
    "shuffle(cards)\n",
    "cards"
   ]
  },
  {
   "cell_type": "code",
   "execution_count": 80,
   "metadata": {},
   "outputs": [
    {
     "data": {
      "text/plain": [
       "Card(rank='4', suit='hearts')"
      ]
     },
     "execution_count": 80,
     "metadata": {},
     "output_type": "execute_result"
    }
   ],
   "source": [
    "# 随机抽一张牌\n",
    "choice(cards)"
   ]
  },
  {
   "cell_type": "code",
   "execution_count": 82,
   "metadata": {},
   "outputs": [
    {
     "data": {
      "text/plain": [
       "[Card(rank='4', suit='hearts'),\n",
       " Card(rank='2', suit='clubs'),\n",
       " Card(rank='Q', suit='diamonds'),\n",
       " Card(rank='9', suit='spades'),\n",
       " Card(rank='10', suit='hearts')]"
      ]
     },
     "execution_count": 82,
     "metadata": {},
     "output_type": "execute_result"
    }
   ],
   "source": [
    "# 随机抽多张牌\n",
    "sample(cards, k=5)"
   ]
  },
  {
   "cell_type": "markdown",
   "metadata": {},
   "source": [
    "**2、Counter——计数器工具**"
   ]
  },
  {
   "cell_type": "code",
   "execution_count": 84,
   "metadata": {},
   "outputs": [],
   "source": [
    "from collections import Counter"
   ]
  },
  {
   "cell_type": "code",
   "execution_count": 85,
   "metadata": {
    "scrolled": true
   },
   "outputs": [
    {
     "name": "stdout",
     "output_type": "stream",
     "text": [
      "Counter({'奶': 5, '牛': 2, '找': 1, '刘': 1, '买': 1})\n",
      "Counter({'blue': 3, 'red': 2, 'green': 1})\n"
     ]
    }
   ],
   "source": [
    "s = \"牛奶奶找刘奶奶买牛奶\"\n",
    "colors = ['red', 'blue', 'red', 'green', 'blue', 'blue']\n",
    "cnt_str = Counter(s)\n",
    "cnt_color = Counter(colors)\n",
    "print(cnt_str)\n",
    "print(cnt_color)"
   ]
  },
  {
   "cell_type": "markdown",
   "metadata": {},
   "source": [
    "* 是字典的一个子类"
   ]
  },
  {
   "cell_type": "code",
   "execution_count": 86,
   "metadata": {},
   "outputs": [
    {
     "name": "stdout",
     "output_type": "stream",
     "text": [
      "True\n"
     ]
    }
   ],
   "source": [
    "print(isinstance(Counter(), dict))"
   ]
  },
  {
   "cell_type": "markdown",
   "metadata": {},
   "source": [
    "* 最常见的统计——most_commom(n)  \n",
    "提供 n 个频率最高的元素和计数"
   ]
  },
  {
   "cell_type": "code",
   "execution_count": 87,
   "metadata": {
    "scrolled": true
   },
   "outputs": [
    {
     "data": {
      "text/plain": [
       "[('blue', 3), ('red', 2)]"
      ]
     },
     "execution_count": 87,
     "metadata": {},
     "output_type": "execute_result"
    }
   ],
   "source": [
    "cnt_color.most_common(2)"
   ]
  },
  {
   "cell_type": "markdown",
   "metadata": {},
   "source": [
    "* 元素展开——elements()"
   ]
  },
  {
   "cell_type": "code",
   "execution_count": 88,
   "metadata": {},
   "outputs": [
    {
     "data": {
      "text/plain": [
       "['牛', '牛', '奶', '奶', '奶', '奶', '奶', '找', '刘', '买']"
      ]
     },
     "execution_count": 88,
     "metadata": {},
     "output_type": "execute_result"
    }
   ],
   "source": [
    "list(cnt_str.elements())"
   ]
  },
  {
   "cell_type": "markdown",
   "metadata": {},
   "source": [
    "* 其他一些加减操作"
   ]
  },
  {
   "cell_type": "code",
   "execution_count": 89,
   "metadata": {},
   "outputs": [
    {
     "data": {
      "text/plain": [
       "Counter({'a': 4, 'b': 3})"
      ]
     },
     "execution_count": 89,
     "metadata": {},
     "output_type": "execute_result"
    }
   ],
   "source": [
    "c = Counter(a=3, b=1)\n",
    "d = Counter(a=1, b=2)\n",
    "c+d"
   ]
  },
  {
   "cell_type": "markdown",
   "metadata": {},
   "source": [
    "【例】从一副牌中抽取10张，大于10的比例有多少"
   ]
  },
  {
   "cell_type": "code",
   "execution_count": 92,
   "metadata": {},
   "outputs": [
    {
     "name": "stdout",
     "output_type": "stream",
     "text": [
      "['tens', 'low_cards', 'low_cards', 'low_cards', 'tens', 'tens', 'low_cards', 'low_cards', 'low_cards', 'low_cards']\n"
     ]
    }
   ],
   "source": [
    "cards = collections.Counter(tens=16, low_cards=36)\n",
    "seen = sample(list(cards.elements()), k=10)\n",
    "print(seen)"
   ]
  },
  {
   "cell_type": "code",
   "execution_count": 93,
   "metadata": {},
   "outputs": [
    {
     "data": {
      "text/plain": [
       "0.3"
      ]
     },
     "execution_count": 93,
     "metadata": {},
     "output_type": "execute_result"
    }
   ],
   "source": [
    "seen.count('tens') / 10"
   ]
  },
  {
   "cell_type": "markdown",
   "metadata": {},
   "source": [
    "**3、deque——双向队列**"
   ]
  },
  {
   "cell_type": "markdown",
   "metadata": {},
   "source": [
    "列表访问数据非常快速\n",
    "   \n",
    "插入和删除操作非常慢——通过移动元素位置来实现\n",
    "  \n",
    "特别是 insert(0, v) 和 pop(0)，在列表开始进行的插入和删除操作"
   ]
  },
  {
   "cell_type": "markdown",
   "metadata": {},
   "source": [
    "**双向队列可以方便的在队列两边高效、快速的增加和删除元素**"
   ]
  },
  {
   "cell_type": "code",
   "execution_count": 94,
   "metadata": {},
   "outputs": [
    {
     "data": {
      "text/plain": [
       "deque(['c', 'd', 'e'])"
      ]
     },
     "execution_count": 94,
     "metadata": {},
     "output_type": "execute_result"
    }
   ],
   "source": [
    "from collections import deque\n",
    "\n",
    "d = deque('cde') \n",
    "d"
   ]
  },
  {
   "cell_type": "code",
   "execution_count": 95,
   "metadata": {},
   "outputs": [
    {
     "data": {
      "text/plain": [
       "deque(['a', 'b', 'c', 'd', 'e', 'f', 'g'])"
      ]
     },
     "execution_count": 95,
     "metadata": {},
     "output_type": "execute_result"
    }
   ],
   "source": [
    "d.append(\"f\")            # 右端增加\n",
    "d.append(\"g\")\n",
    "d.appendleft(\"b\")        # 左端增加\n",
    "d.appendleft(\"a\")\n",
    "d"
   ]
  },
  {
   "cell_type": "code",
   "execution_count": 96,
   "metadata": {},
   "outputs": [
    {
     "data": {
      "text/plain": [
       "deque(['b', 'c', 'd', 'e', 'f'])"
      ]
     },
     "execution_count": 96,
     "metadata": {},
     "output_type": "execute_result"
    }
   ],
   "source": [
    "d.pop()           # 右端删除 \n",
    "d.popleft()       # 左端删除\n",
    "d"
   ]
  },
  {
   "cell_type": "markdown",
   "metadata": {},
   "source": [
    "deque 其他用法可参考官方文档"
   ]
  },
  {
   "cell_type": "markdown",
   "metadata": {},
   "source": [
    "## 10.4 itertools库——迭代器"
   ]
  },
  {
   "cell_type": "markdown",
   "metadata": {},
   "source": [
    "**1、排列组合迭代器**"
   ]
  },
  {
   "cell_type": "markdown",
   "metadata": {},
   "source": [
    "（1）product——笛卡尔积"
   ]
  },
  {
   "cell_type": "code",
   "execution_count": 97,
   "metadata": {},
   "outputs": [
    {
     "name": "stdout",
     "output_type": "stream",
     "text": [
      "('A', '0')\n",
      "('A', '1')\n",
      "('B', '0')\n",
      "('B', '1')\n",
      "('C', '0')\n",
      "('C', '1')\n"
     ]
    }
   ],
   "source": [
    "import itertools\n",
    "\n",
    "for i in itertools.product('ABC', '01'):\n",
    "    print(i)"
   ]
  },
  {
   "cell_type": "code",
   "execution_count": 98,
   "metadata": {
    "scrolled": true
   },
   "outputs": [
    {
     "name": "stdout",
     "output_type": "stream",
     "text": [
      "('A', 'A', 'A')\n",
      "('A', 'A', 'B')\n",
      "('A', 'A', 'C')\n",
      "('A', 'B', 'A')\n",
      "('A', 'B', 'B')\n",
      "('A', 'B', 'C')\n",
      "('A', 'C', 'A')\n",
      "('A', 'C', 'B')\n",
      "('A', 'C', 'C')\n",
      "('B', 'A', 'A')\n",
      "('B', 'A', 'B')\n",
      "('B', 'A', 'C')\n",
      "('B', 'B', 'A')\n",
      "('B', 'B', 'B')\n",
      "('B', 'B', 'C')\n",
      "('B', 'C', 'A')\n",
      "('B', 'C', 'B')\n",
      "('B', 'C', 'C')\n",
      "('C', 'A', 'A')\n",
      "('C', 'A', 'B')\n",
      "('C', 'A', 'C')\n",
      "('C', 'B', 'A')\n",
      "('C', 'B', 'B')\n",
      "('C', 'B', 'C')\n",
      "('C', 'C', 'A')\n",
      "('C', 'C', 'B')\n",
      "('C', 'C', 'C')\n"
     ]
    }
   ],
   "source": [
    "for i in itertools.product('ABC', repeat=3):\n",
    "    print(i)"
   ]
  },
  {
   "cell_type": "markdown",
   "metadata": {},
   "source": [
    "（2）  permutations——排列"
   ]
  },
  {
   "cell_type": "code",
   "execution_count": 99,
   "metadata": {},
   "outputs": [
    {
     "name": "stdout",
     "output_type": "stream",
     "text": [
      "('A', 'B', 'C')\n",
      "('A', 'B', 'D')\n",
      "('A', 'C', 'B')\n",
      "('A', 'C', 'D')\n",
      "('A', 'D', 'B')\n",
      "('A', 'D', 'C')\n",
      "('B', 'A', 'C')\n",
      "('B', 'A', 'D')\n",
      "('B', 'C', 'A')\n",
      "('B', 'C', 'D')\n",
      "('B', 'D', 'A')\n",
      "('B', 'D', 'C')\n",
      "('C', 'A', 'B')\n",
      "('C', 'A', 'D')\n",
      "('C', 'B', 'A')\n",
      "('C', 'B', 'D')\n",
      "('C', 'D', 'A')\n",
      "('C', 'D', 'B')\n",
      "('D', 'A', 'B')\n",
      "('D', 'A', 'C')\n",
      "('D', 'B', 'A')\n",
      "('D', 'B', 'C')\n",
      "('D', 'C', 'A')\n",
      "('D', 'C', 'B')\n"
     ]
    }
   ],
   "source": [
    "for i in itertools.permutations('ABCD', 3):   # 3 是排列的长度\n",
    "    print(i)"
   ]
  },
  {
   "cell_type": "code",
   "execution_count": 100,
   "metadata": {},
   "outputs": [
    {
     "name": "stdout",
     "output_type": "stream",
     "text": [
      "(0, 1, 2)\n",
      "(0, 2, 1)\n",
      "(1, 0, 2)\n",
      "(1, 2, 0)\n",
      "(2, 0, 1)\n",
      "(2, 1, 0)\n"
     ]
    }
   ],
   "source": [
    "for i in itertools.permutations(range(3)):\n",
    "    print(i)"
   ]
  },
  {
   "cell_type": "markdown",
   "metadata": {},
   "source": [
    "（3）combinations——组合"
   ]
  },
  {
   "cell_type": "code",
   "execution_count": 101,
   "metadata": {},
   "outputs": [
    {
     "name": "stdout",
     "output_type": "stream",
     "text": [
      "('A', 'B')\n",
      "('A', 'C')\n",
      "('A', 'D')\n",
      "('B', 'C')\n",
      "('B', 'D')\n",
      "('C', 'D')\n"
     ]
    }
   ],
   "source": [
    "for i in itertools.combinations('ABCD', 2):  # 2是组合的长度\n",
    "    print(i)"
   ]
  },
  {
   "cell_type": "code",
   "execution_count": 102,
   "metadata": {},
   "outputs": [
    {
     "name": "stdout",
     "output_type": "stream",
     "text": [
      "(0, 1, 2)\n",
      "(0, 1, 3)\n",
      "(0, 2, 3)\n",
      "(1, 2, 3)\n"
     ]
    }
   ],
   "source": [
    "for i in itertools.combinations(range(4), 3):\n",
    "    print(i)"
   ]
  },
  {
   "cell_type": "markdown",
   "metadata": {},
   "source": [
    "（4）combinations_with_replacement——元素可重复组合"
   ]
  },
  {
   "cell_type": "code",
   "execution_count": 103,
   "metadata": {
    "scrolled": true
   },
   "outputs": [
    {
     "name": "stdout",
     "output_type": "stream",
     "text": [
      "('A', 'A')\n",
      "('A', 'B')\n",
      "('A', 'C')\n",
      "('B', 'B')\n",
      "('B', 'C')\n",
      "('C', 'C')\n"
     ]
    }
   ],
   "source": [
    "for i in itertools.combinations_with_replacement('ABC', 2):  # 2是组合的长度\n",
    "    print(i)"
   ]
  },
  {
   "cell_type": "code",
   "execution_count": 104,
   "metadata": {
    "scrolled": true
   },
   "outputs": [
    {
     "name": "stdout",
     "output_type": "stream",
     "text": [
      "('A', 'A')\n",
      "('A', 'B')\n",
      "('A', 'C')\n",
      "('B', 'A')\n",
      "('B', 'B')\n",
      "('B', 'C')\n",
      "('C', 'A')\n",
      "('C', 'B')\n",
      "('C', 'C')\n"
     ]
    }
   ],
   "source": [
    "for i in itertools.product('ABC',repeat=2):\n",
    "    print(i)"
   ]
  },
  {
   "cell_type": "markdown",
   "metadata": {},
   "source": [
    "**2、拉链**"
   ]
  },
  {
   "cell_type": "markdown",
   "metadata": {},
   "source": [
    "（1）zip——短拉链"
   ]
  },
  {
   "cell_type": "code",
   "execution_count": 105,
   "metadata": {},
   "outputs": [
    {
     "name": "stdout",
     "output_type": "stream",
     "text": [
      "('A', '0', 'x')\n",
      "('B', '1', 'y')\n",
      "('C', '2', 'z')\n"
     ]
    }
   ],
   "source": [
    "for i in zip(\"ABC\", \"012\", \"xyz\"):\n",
    "    print(i)"
   ]
  },
  {
   "cell_type": "markdown",
   "metadata": {},
   "source": [
    "长度不一时，执行到最短的对象处，就停止"
   ]
  },
  {
   "cell_type": "code",
   "execution_count": 107,
   "metadata": {},
   "outputs": [
    {
     "name": "stdout",
     "output_type": "stream",
     "text": [
      "('A', 0)\n",
      "('B', 1)\n",
      "('C', 2)\n"
     ]
    }
   ],
   "source": [
    "for i in zip(\"ABC\", [0, 1, 2, 3, 4, 5]):          # 注意zip是内置的，不需要加itertools\n",
    "    print(i)"
   ]
  },
  {
   "cell_type": "markdown",
   "metadata": {},
   "source": [
    "（2）zip_longest——长拉链"
   ]
  },
  {
   "cell_type": "markdown",
   "metadata": {},
   "source": [
    "长度不一时，执行到最长的对象处，就停止，缺省元素用None或指定字符替代"
   ]
  },
  {
   "cell_type": "code",
   "execution_count": 108,
   "metadata": {},
   "outputs": [
    {
     "name": "stdout",
     "output_type": "stream",
     "text": [
      "('A', '0')\n",
      "('B', '1')\n",
      "('C', '2')\n",
      "(None, '3')\n",
      "(None, '4')\n",
      "(None, '5')\n"
     ]
    }
   ],
   "source": [
    "for i in itertools.zip_longest(\"ABC\", \"012345\"):\n",
    "    print(i)"
   ]
  },
  {
   "cell_type": "code",
   "execution_count": 109,
   "metadata": {},
   "outputs": [
    {
     "name": "stdout",
     "output_type": "stream",
     "text": [
      "('A', '0')\n",
      "('B', '1')\n",
      "('C', '2')\n",
      "('?', '3')\n",
      "('?', '4')\n",
      "('?', '5')\n"
     ]
    }
   ],
   "source": [
    "for i in itertools.zip_longest(\"ABC\", \"012345\", fillvalue = \"?\"):\n",
    "    print(i)"
   ]
  },
  {
   "cell_type": "markdown",
   "metadata": {},
   "source": [
    "**3、无穷迭代器**"
   ]
  },
  {
   "cell_type": "markdown",
   "metadata": {},
   "source": [
    "（1）count(start=0, step=1)——计数\n",
    "  \n",
    "    创建一个迭代器，它从 start 值开始，返回均匀间隔的值"
   ]
  },
  {
   "cell_type": "code",
   "execution_count": null,
   "metadata": {},
   "outputs": [],
   "source": [
    "itertools.count(10)\n",
    "10\n",
    "11\n",
    "12\n",
    ".\n",
    ".\n",
    "."
   ]
  },
  {
   "cell_type": "markdown",
   "metadata": {},
   "source": [
    "（2）cycle(iterable)——循环\n",
    "  \n",
    "    创建一个迭代器，返回 iterable 中所有元素，无限重复"
   ]
  },
  {
   "cell_type": "code",
   "execution_count": null,
   "metadata": {},
   "outputs": [],
   "source": [
    "itertools.cycle(\"ABC\")\n",
    "A\n",
    "B\n",
    "C\n",
    "A\n",
    "B\n",
    "C\n",
    ".\n",
    ".\n",
    "."
   ]
  },
  {
   "cell_type": "markdown",
   "metadata": {},
   "source": [
    "（3）repeat(object  [, times])——重复\n",
    "  \n",
    "    创建一个迭代器，不断重复 object 。除非设定参数 times ，否则将无限重复"
   ]
  },
  {
   "cell_type": "code",
   "execution_count": 110,
   "metadata": {},
   "outputs": [
    {
     "name": "stdout",
     "output_type": "stream",
     "text": [
      "10\n",
      "10\n",
      "10\n"
     ]
    }
   ],
   "source": [
    "for i in itertools.repeat(10, 3):\n",
    "    print(i)"
   ]
  },
  {
   "cell_type": "markdown",
   "metadata": {},
   "source": [
    "**4、其他**"
   ]
  },
  {
   "cell_type": "markdown",
   "metadata": {},
   "source": [
    "（1）chain(iterables)——锁链\n",
    "  \n",
    "    把一组迭代对象串联起来，形成一个更大的迭代器"
   ]
  },
  {
   "cell_type": "code",
   "execution_count": 111,
   "metadata": {},
   "outputs": [
    {
     "name": "stdout",
     "output_type": "stream",
     "text": [
      "A\n",
      "B\n",
      "C\n",
      "1\n",
      "2\n",
      "3\n"
     ]
    }
   ],
   "source": [
    "for i in itertools.chain('ABC', [1, 2, 3]):\n",
    "    print(i)"
   ]
  },
  {
   "cell_type": "markdown",
   "metadata": {},
   "source": [
    "（2）enumerate(iterable, start=0)——枚举（Python内置）\n",
    "  \n",
    "    产出由两个元素组成的元组，结构是（index, item）,其中index 从start开始，item从iterable中取"
   ]
  },
  {
   "cell_type": "code",
   "execution_count": 112,
   "metadata": {},
   "outputs": [
    {
     "name": "stdout",
     "output_type": "stream",
     "text": [
      "(1, 'P')\n",
      "(2, 'y')\n",
      "(3, 't')\n",
      "(4, 'h')\n",
      "(5, 'o')\n",
      "(6, 'n')\n"
     ]
    }
   ],
   "source": [
    "for i in enumerate(\"Python\", start=1):\n",
    "    print(i)"
   ]
  },
  {
   "cell_type": "markdown",
   "metadata": {},
   "source": [
    "（3）groupby(iterable, key=None)——分组\n",
    "  \n",
    "    创建一个迭代器，按照key指定的方式，返回 iterable 中连续的键和组\n",
    "    一般来说，要预先对数据进行排序\n",
    "    key为None默认把连续重复元素分组"
   ]
  },
  {
   "cell_type": "code",
   "execution_count": 113,
   "metadata": {
    "scrolled": true
   },
   "outputs": [
    {
     "name": "stdout",
     "output_type": "stream",
     "text": [
      "A ['A', 'A', 'A', 'A']\n",
      "B ['B', 'B', 'B']\n",
      "C ['C', 'C']\n",
      "D ['D']\n",
      "A ['A', 'A']\n",
      "B ['B', 'B', 'B']\n"
     ]
    }
   ],
   "source": [
    "for key, group in itertools.groupby('AAAABBBCCDAABBB'):\n",
    "    print(key, list(group))"
   ]
  },
  {
   "cell_type": "code",
   "execution_count": 114,
   "metadata": {},
   "outputs": [
    {
     "name": "stdout",
     "output_type": "stream",
     "text": [
      "['rat', 'bat', 'duck', 'bear', 'lion', 'eagle', 'shark', 'giraffe', 'dolphin']\n"
     ]
    }
   ],
   "source": [
    "animals = [\"duck\", \"eagle\", \"rat\", \"giraffe\", \"bear\", \"bat\", \"dolphin\", \"shark\", \"lion\"]\n",
    "animals.sort(key=len)\n",
    "print(animals)"
   ]
  },
  {
   "cell_type": "code",
   "execution_count": 115,
   "metadata": {},
   "outputs": [
    {
     "name": "stdout",
     "output_type": "stream",
     "text": [
      "3 ['rat', 'bat']\n",
      "4 ['duck', 'bear', 'lion']\n",
      "5 ['eagle', 'shark']\n",
      "7 ['giraffe', 'dolphin']\n"
     ]
    }
   ],
   "source": [
    "for key, group in itertools.groupby(animals, key=len):\n",
    "    print(key, list(group))"
   ]
  },
  {
   "cell_type": "code",
   "execution_count": 116,
   "metadata": {},
   "outputs": [
    {
     "name": "stdout",
     "output_type": "stream",
     "text": [
      "['bear', 'bat', 'duck', 'dolphin', 'eagle', 'giraffe', 'lion', 'rat', 'shark']\n",
      "b ['bear', 'bat']\n",
      "d ['duck', 'dolphin']\n",
      "e ['eagle']\n",
      "g ['giraffe']\n",
      "l ['lion']\n",
      "r ['rat']\n",
      "s ['shark']\n"
     ]
    }
   ],
   "source": [
    "animals = [\"duck\", \"eagle\", \"rat\", \"giraffe\", \"bear\", \"bat\", \"dolphin\", \"shark\", \"lion\"]\n",
    "animals.sort(key=lambda x: x[0])\n",
    "print(animals)\n",
    "for key, group in itertools.groupby(animals, key=lambda x: x[0]):\n",
    "    print(key, list(group))"
   ]
  },
  {
   "cell_type": "markdown",
   "metadata": {},
   "source": [
    "**itertools 其他函数可参考官方文档**"
   ]
  }
 ],
 "metadata": {
  "kernelspec": {
   "display_name": "Python 3",
   "language": "python",
   "name": "python3"
  },
  "language_info": {
   "codemirror_mode": {
    "name": "ipython",
    "version": 3
   },
   "file_extension": ".py",
   "mimetype": "text/x-python",
   "name": "python",
   "nbconvert_exporter": "python",
   "pygments_lexer": "ipython3",
   "version": "3.7.3"
  }
 },
 "nbformat": 4,
 "nbformat_minor": 2
}
